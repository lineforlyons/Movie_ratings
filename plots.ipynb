{
 "cells": [
  {
   "cell_type": "code",
   "execution_count": 37,
   "metadata": {},
   "outputs": [],
   "source": [
    "from pymongo import MongoClient\n",
    "import pandas as pd\n",
    "import numpy as np\n",
    "import random\n",
    "\n",
    "#used if i need wildcard in bs\n",
    "import re\n",
    "\n",
    "import time\n",
    "import pprint\n",
    "\n",
    "import matplotlib.pyplot as plt"
   ]
  },
  {
   "cell_type": "code",
   "execution_count": 2,
   "metadata": {},
   "outputs": [],
   "source": [
    "client = MongoClient('localhost', 27017)\n",
    "db = client['scraper']\n",
    "whole_page_ratings = db['whole_page_rt']\n",
    "rt_ratings = db['rt_ratings']"
   ]
  },
  {
   "cell_type": "code",
   "execution_count": 29,
   "metadata": {},
   "outputs": [],
   "source": [
    "rt_pd = pd.DataFrame(list(rt_ratings.find()))"
   ]
  },
  {
   "cell_type": "code",
   "execution_count": 30,
   "metadata": {},
   "outputs": [
    {
     "data": {
      "text/html": [
       "<div>\n",
       "<style scoped>\n",
       "    .dataframe tbody tr th:only-of-type {\n",
       "        vertical-align: middle;\n",
       "    }\n",
       "\n",
       "    .dataframe tbody tr th {\n",
       "        vertical-align: top;\n",
       "    }\n",
       "\n",
       "    .dataframe thead th {\n",
       "        text-align: right;\n",
       "    }\n",
       "</style>\n",
       "<table border=\"1\" class=\"dataframe\">\n",
       "  <thead>\n",
       "    <tr style=\"text-align: right;\">\n",
       "      <th></th>\n",
       "      <th>_id</th>\n",
       "      <th>rotten_tomato_rating</th>\n",
       "      <th>audience_rating</th>\n",
       "      <th>director</th>\n",
       "      <th>writers</th>\n",
       "      <th>top_5_billed</th>\n",
       "      <th>title</th>\n",
       "    </tr>\n",
       "  </thead>\n",
       "  <tbody>\n",
       "    <tr>\n",
       "      <th>1266</th>\n",
       "      <td>5f1779aaeec2a42d5d9ccc90</td>\n",
       "      <td>70%</td>\n",
       "      <td>82%</td>\n",
       "      <td>[Written By:Justin B. Rhodes]</td>\n",
       "      <td>[In Theaters:Nov 1,  2019 wide]</td>\n",
       "      <td>[Linda Hamilton , Aaron KunitzArnold Schwarzen...</td>\n",
       "      <td>Terminator: Dark Fate</td>\n",
       "    </tr>\n",
       "    <tr>\n",
       "      <th>1267</th>\n",
       "      <td>5f1779b4eec2a42d5d9ccc91</td>\n",
       "      <td>57%</td>\n",
       "      <td>94%</td>\n",
       "      <td>[Guy Ritchie]</td>\n",
       "      <td>[John August,  Guy Ritchie]</td>\n",
       "      <td>[Will Smith , Mena Massoud , Naomi Scott , Mar...</td>\n",
       "      <td>Aladdin</td>\n",
       "    </tr>\n",
       "    <tr>\n",
       "      <th>1268</th>\n",
       "      <td>5f1779baeec2a42d5d9ccc92</td>\n",
       "      <td>93%</td>\n",
       "      <td>87%</td>\n",
       "      <td>[Taika Waititi]</td>\n",
       "      <td>[Eric Pearson]</td>\n",
       "      <td>[Chris Hemsworth , Tom Hiddleston , Mark Ruffa...</td>\n",
       "      <td>Thor: Ragnarok</td>\n",
       "    </tr>\n",
       "    <tr>\n",
       "      <th>1269</th>\n",
       "      <td>5f1779c8eec2a42d5d9ccc93</td>\n",
       "      <td>53%</td>\n",
       "      <td>70%</td>\n",
       "      <td>[Robert Stromberg]</td>\n",
       "      <td>[Linda Woolverton]</td>\n",
       "      <td>[Angelina Jolie , Sharlto Copley , Elle Fannin...</td>\n",
       "      <td>Maleficent</td>\n",
       "    </tr>\n",
       "    <tr>\n",
       "      <th>1270</th>\n",
       "      <td>5f1779d8eec2a42d5d9ccc94</td>\n",
       "      <td>74%</td>\n",
       "      <td>79%</td>\n",
       "      <td>[David Yates (II)]</td>\n",
       "      <td>[J.K. Rowling,  J.K. Rowling]</td>\n",
       "      <td>[Eddie Redmayne , Katherine Waterston , , , Ja...</td>\n",
       "      <td>Fantastic Beasts and Where to Find Them</td>\n",
       "    </tr>\n",
       "    <tr>\n",
       "      <th>...</th>\n",
       "      <td>...</td>\n",
       "      <td>...</td>\n",
       "      <td>...</td>\n",
       "      <td>...</td>\n",
       "      <td>...</td>\n",
       "      <td>...</td>\n",
       "      <td>...</td>\n",
       "    </tr>\n",
       "    <tr>\n",
       "      <th>1361</th>\n",
       "      <td>5f177e11eec2a42d5d9cccef</td>\n",
       "      <td>91%</td>\n",
       "      <td>89%</td>\n",
       "      <td>[Anthony Russo]</td>\n",
       "      <td>[Christopher Markus,  Stephen McFeely]</td>\n",
       "      <td>[Chris Evans , Robert Downey Jr. , Scarlett Jo...</td>\n",
       "      <td>Captain America: Civil War</td>\n",
       "    </tr>\n",
       "    <tr>\n",
       "      <th>1362</th>\n",
       "      <td>5f177e1feec2a42d5d9cccf0</td>\n",
       "      <td>83%</td>\n",
       "      <td>78%</td>\n",
       "      <td>[David Yates (II)]</td>\n",
       "      <td>[Steve Kloves]</td>\n",
       "      <td>[Daniel Radcliffe , Emma Watson , Rupert Grint...</td>\n",
       "      <td>Harry Potter and the Half-Blood Prince</td>\n",
       "    </tr>\n",
       "    <tr>\n",
       "      <th>1363</th>\n",
       "      <td>5f177e2feec2a42d5d9cccf1</td>\n",
       "      <td>74%</td>\n",
       "      <td>85%</td>\n",
       "      <td>[Peter Jackson]</td>\n",
       "      <td>[Guillermo del Toro,  Peter Jackson,  Fran Wal...</td>\n",
       "      <td>[Ian McKellen , Martin Freeman , Richard Armit...</td>\n",
       "      <td>The Hobbit: The Desolation of Smaug</td>\n",
       "    </tr>\n",
       "    <tr>\n",
       "      <th>1364</th>\n",
       "      <td>5f177e3beec2a42d5d9cccf2</td>\n",
       "      <td>59%</td>\n",
       "      <td>74%</td>\n",
       "      <td>[Peter Jackson]</td>\n",
       "      <td>[Fran Walsh,  Philippa Boyens,  Guillermo del ...</td>\n",
       "      <td>[Martin Freeman , Ian McKellen , , Thorin Oake...</td>\n",
       "      <td>The Hobbit: The Battle of the Five Armies</td>\n",
       "    </tr>\n",
       "    <tr>\n",
       "      <th>1365</th>\n",
       "      <td>5f177e49eec2a42d5d9cccf3</td>\n",
       "      <td>67%</td>\n",
       "      <td>72%</td>\n",
       "      <td>[F. Gary Gray]</td>\n",
       "      <td>[Chris Morgan]</td>\n",
       "      <td>[Vin Diesel , Dwayne Johnson , Jason Statham ,...</td>\n",
       "      <td>The Fate of the Furious</td>\n",
       "    </tr>\n",
       "  </tbody>\n",
       "</table>\n",
       "<p>100 rows × 7 columns</p>\n",
       "</div>"
      ],
      "text/plain": [
       "                           _id rotten_tomato_rating audience_rating  \\\n",
       "1266  5f1779aaeec2a42d5d9ccc90                  70%             82%   \n",
       "1267  5f1779b4eec2a42d5d9ccc91                  57%             94%   \n",
       "1268  5f1779baeec2a42d5d9ccc92                  93%             87%   \n",
       "1269  5f1779c8eec2a42d5d9ccc93                  53%             70%   \n",
       "1270  5f1779d8eec2a42d5d9ccc94                  74%             79%   \n",
       "...                        ...                  ...             ...   \n",
       "1361  5f177e11eec2a42d5d9cccef                  91%             89%   \n",
       "1362  5f177e1feec2a42d5d9cccf0                  83%             78%   \n",
       "1363  5f177e2feec2a42d5d9cccf1                  74%             85%   \n",
       "1364  5f177e3beec2a42d5d9cccf2                  59%             74%   \n",
       "1365  5f177e49eec2a42d5d9cccf3                  67%             72%   \n",
       "\n",
       "                           director  \\\n",
       "1266  [Written By:Justin B. Rhodes]   \n",
       "1267                  [Guy Ritchie]   \n",
       "1268                [Taika Waititi]   \n",
       "1269             [Robert Stromberg]   \n",
       "1270             [David Yates (II)]   \n",
       "...                             ...   \n",
       "1361                [Anthony Russo]   \n",
       "1362             [David Yates (II)]   \n",
       "1363                [Peter Jackson]   \n",
       "1364                [Peter Jackson]   \n",
       "1365                 [F. Gary Gray]   \n",
       "\n",
       "                                                writers  \\\n",
       "1266                    [In Theaters:Nov 1,  2019 wide]   \n",
       "1267                        [John August,  Guy Ritchie]   \n",
       "1268                                     [Eric Pearson]   \n",
       "1269                                 [Linda Woolverton]   \n",
       "1270                      [J.K. Rowling,  J.K. Rowling]   \n",
       "...                                                 ...   \n",
       "1361             [Christopher Markus,  Stephen McFeely]   \n",
       "1362                                     [Steve Kloves]   \n",
       "1363  [Guillermo del Toro,  Peter Jackson,  Fran Wal...   \n",
       "1364  [Fran Walsh,  Philippa Boyens,  Guillermo del ...   \n",
       "1365                                     [Chris Morgan]   \n",
       "\n",
       "                                           top_5_billed  \\\n",
       "1266  [Linda Hamilton , Aaron KunitzArnold Schwarzen...   \n",
       "1267  [Will Smith , Mena Massoud , Naomi Scott , Mar...   \n",
       "1268  [Chris Hemsworth , Tom Hiddleston , Mark Ruffa...   \n",
       "1269  [Angelina Jolie , Sharlto Copley , Elle Fannin...   \n",
       "1270  [Eddie Redmayne , Katherine Waterston , , , Ja...   \n",
       "...                                                 ...   \n",
       "1361  [Chris Evans , Robert Downey Jr. , Scarlett Jo...   \n",
       "1362  [Daniel Radcliffe , Emma Watson , Rupert Grint...   \n",
       "1363  [Ian McKellen , Martin Freeman , Richard Armit...   \n",
       "1364  [Martin Freeman , Ian McKellen , , Thorin Oake...   \n",
       "1365  [Vin Diesel , Dwayne Johnson , Jason Statham ,...   \n",
       "\n",
       "                                          title  \n",
       "1266                      Terminator: Dark Fate  \n",
       "1267                                    Aladdin  \n",
       "1268                             Thor: Ragnarok  \n",
       "1269                                 Maleficent  \n",
       "1270    Fantastic Beasts and Where to Find Them  \n",
       "...                                         ...  \n",
       "1361                 Captain America: Civil War  \n",
       "1362     Harry Potter and the Half-Blood Prince  \n",
       "1363        The Hobbit: The Desolation of Smaug  \n",
       "1364  The Hobbit: The Battle of the Five Armies  \n",
       "1365                    The Fate of the Furious  \n",
       "\n",
       "[100 rows x 7 columns]"
      ]
     },
     "execution_count": 30,
     "metadata": {},
     "output_type": "execute_result"
    }
   ],
   "source": [
    "rt_pd.tail(100)"
   ]
  },
  {
   "cell_type": "code",
   "execution_count": 39,
   "metadata": {},
   "outputs": [],
   "source": [
    "budgets_pd = pd.read_csv('data/budgets_pd.csv')"
   ]
  },
  {
   "cell_type": "code",
   "execution_count": 40,
   "metadata": {},
   "outputs": [
    {
     "data": {
      "text/html": [
       "<div>\n",
       "<style scoped>\n",
       "    .dataframe tbody tr th:only-of-type {\n",
       "        vertical-align: middle;\n",
       "    }\n",
       "\n",
       "    .dataframe tbody tr th {\n",
       "        vertical-align: top;\n",
       "    }\n",
       "\n",
       "    .dataframe thead th {\n",
       "        text-align: right;\n",
       "    }\n",
       "</style>\n",
       "<table border=\"1\" class=\"dataframe\">\n",
       "  <thead>\n",
       "    <tr style=\"text-align: right;\">\n",
       "      <th></th>\n",
       "      <th>_id</th>\n",
       "      <th>date</th>\n",
       "      <th>title</th>\n",
       "      <th>budget</th>\n",
       "      <th>domestic_gross</th>\n",
       "      <th>worldwide_gross</th>\n",
       "    </tr>\n",
       "  </thead>\n",
       "  <tbody>\n",
       "    <tr>\n",
       "      <th>6033</th>\n",
       "      <td>5f17b5918fbba2e9aaf44118</td>\n",
       "      <td>Jan 13, 2012</td>\n",
       "      <td>Newlyweds</td>\n",
       "      <td>$9,000</td>\n",
       "      <td>$4,584</td>\n",
       "      <td>$4,584</td>\n",
       "    </tr>\n",
       "    <tr>\n",
       "      <th>6034</th>\n",
       "      <td>5f17b5918fbba2e9aaf44119</td>\n",
       "      <td>Feb 26, 1993</td>\n",
       "      <td>El Mariachi</td>\n",
       "      <td>$7,000</td>\n",
       "      <td>$2,040,920</td>\n",
       "      <td>$2,041,928</td>\n",
       "    </tr>\n",
       "    <tr>\n",
       "      <th>6035</th>\n",
       "      <td>5f17b5918fbba2e9aaf4411a</td>\n",
       "      <td>Oct 8, 2004</td>\n",
       "      <td>Primer</td>\n",
       "      <td>$7,000</td>\n",
       "      <td>$424,760</td>\n",
       "      <td>$841,926</td>\n",
       "    </tr>\n",
       "    <tr>\n",
       "      <th>6036</th>\n",
       "      <td>5f17b5918fbba2e9aaf4411b</td>\n",
       "      <td>May 26, 2006</td>\n",
       "      <td>Cavite</td>\n",
       "      <td>$7,000</td>\n",
       "      <td>$70,071</td>\n",
       "      <td>$71,644</td>\n",
       "    </tr>\n",
       "    <tr>\n",
       "      <th>6037</th>\n",
       "      <td>5f17b5918fbba2e9aaf4411c</td>\n",
       "      <td>Unknown</td>\n",
       "      <td>The Mongol King</td>\n",
       "      <td>$7,000</td>\n",
       "      <td>$900</td>\n",
       "      <td>$900</td>\n",
       "    </tr>\n",
       "    <tr>\n",
       "      <th>6038</th>\n",
       "      <td>5f17b5918fbba2e9aaf4411d</td>\n",
       "      <td>Unknown</td>\n",
       "      <td>Red 11</td>\n",
       "      <td>$7,000</td>\n",
       "      <td>$0</td>\n",
       "      <td>$0</td>\n",
       "    </tr>\n",
       "    <tr>\n",
       "      <th>6039</th>\n",
       "      <td>5f17b5918fbba2e9aaf4411e</td>\n",
       "      <td>Apr 2, 1999</td>\n",
       "      <td>Following</td>\n",
       "      <td>$6,000</td>\n",
       "      <td>$48,482</td>\n",
       "      <td>$240,495</td>\n",
       "    </tr>\n",
       "    <tr>\n",
       "      <th>6040</th>\n",
       "      <td>5f17b5918fbba2e9aaf4411f</td>\n",
       "      <td>Jul 13, 2005</td>\n",
       "      <td>Return to the Land of Wonders</td>\n",
       "      <td>$5,000</td>\n",
       "      <td>$1,338</td>\n",
       "      <td>$1,338</td>\n",
       "    </tr>\n",
       "    <tr>\n",
       "      <th>6041</th>\n",
       "      <td>5f17b5918fbba2e9aaf44120</td>\n",
       "      <td>Sep 29, 2015</td>\n",
       "      <td>A Plague So Pleasant</td>\n",
       "      <td>$1,400</td>\n",
       "      <td>$0</td>\n",
       "      <td>$0</td>\n",
       "    </tr>\n",
       "    <tr>\n",
       "      <th>6042</th>\n",
       "      <td>5f17b5918fbba2e9aaf44121</td>\n",
       "      <td>Aug 5, 2005</td>\n",
       "      <td>My Date With Drew</td>\n",
       "      <td>$1,100</td>\n",
       "      <td>$181,041</td>\n",
       "      <td>$181,041</td>\n",
       "    </tr>\n",
       "  </tbody>\n",
       "</table>\n",
       "</div>"
      ],
      "text/plain": [
       "                           _id          date                          title  \\\n",
       "6033  5f17b5918fbba2e9aaf44118  Jan 13, 2012                      Newlyweds   \n",
       "6034  5f17b5918fbba2e9aaf44119  Feb 26, 1993                    El Mariachi   \n",
       "6035  5f17b5918fbba2e9aaf4411a   Oct 8, 2004                         Primer   \n",
       "6036  5f17b5918fbba2e9aaf4411b  May 26, 2006                         Cavite   \n",
       "6037  5f17b5918fbba2e9aaf4411c       Unknown                The Mongol King   \n",
       "6038  5f17b5918fbba2e9aaf4411d       Unknown                         Red 11   \n",
       "6039  5f17b5918fbba2e9aaf4411e   Apr 2, 1999                      Following   \n",
       "6040  5f17b5918fbba2e9aaf4411f  Jul 13, 2005  Return to the Land of Wonders   \n",
       "6041  5f17b5918fbba2e9aaf44120  Sep 29, 2015           A Plague So Pleasant   \n",
       "6042  5f17b5918fbba2e9aaf44121   Aug 5, 2005              My Date With Drew   \n",
       "\n",
       "       budget domestic_gross worldwide_gross  \n",
       "6033   $9,000         $4,584          $4,584  \n",
       "6034   $7,000     $2,040,920      $2,041,928  \n",
       "6035   $7,000       $424,760        $841,926  \n",
       "6036   $7,000        $70,071         $71,644  \n",
       "6037   $7,000           $900            $900  \n",
       "6038   $7,000             $0              $0  \n",
       "6039   $6,000        $48,482        $240,495  \n",
       "6040   $5,000         $1,338          $1,338  \n",
       "6041   $1,400             $0              $0  \n",
       "6042   $1,100       $181,041        $181,041  "
      ]
     },
     "execution_count": 40,
     "metadata": {},
     "output_type": "execute_result"
    }
   ],
   "source": [
    "budgets_pd.tail(10)"
   ]
  },
  {
   "cell_type": "code",
   "execution_count": null,
   "metadata": {},
   "outputs": [],
   "source": [
    "# graphs/plots\n",
    "# 1 histogram of budgets\n",
    "# budget vs critic rating\n",
    "# budget vs audience rating\n",
    "# maybe counts of oscar actors in movies >90% rated\n",
    "# maybe counts of oscar directors in movies >90%\n",
    "# maybe counts of oscar writers in movies >90%"
   ]
  },
  {
   "cell_type": "code",
   "execution_count": 41,
   "metadata": {},
   "outputs": [],
   "source": [
    "merged_db = pd.merge(rt_pd, budgets_pd, on='title')"
   ]
  },
  {
   "cell_type": "code",
   "execution_count": 42,
   "metadata": {},
   "outputs": [
    {
     "data": {
      "text/html": [
       "<div>\n",
       "<style scoped>\n",
       "    .dataframe tbody tr th:only-of-type {\n",
       "        vertical-align: middle;\n",
       "    }\n",
       "\n",
       "    .dataframe tbody tr th {\n",
       "        vertical-align: top;\n",
       "    }\n",
       "\n",
       "    .dataframe thead th {\n",
       "        text-align: right;\n",
       "    }\n",
       "</style>\n",
       "<table border=\"1\" class=\"dataframe\">\n",
       "  <thead>\n",
       "    <tr style=\"text-align: right;\">\n",
       "      <th></th>\n",
       "      <th>_id_x</th>\n",
       "      <th>rotten_tomato_rating</th>\n",
       "      <th>audience_rating</th>\n",
       "      <th>director</th>\n",
       "      <th>writers</th>\n",
       "      <th>top_5_billed</th>\n",
       "      <th>title</th>\n",
       "      <th>_id_y</th>\n",
       "      <th>date</th>\n",
       "      <th>budget</th>\n",
       "      <th>domestic_gross</th>\n",
       "      <th>worldwide_gross</th>\n",
       "    </tr>\n",
       "  </thead>\n",
       "  <tbody>\n",
       "    <tr>\n",
       "      <th>0</th>\n",
       "      <td>5f173e2ceec2a42d5d9cc7a1</td>\n",
       "      <td>94%</td>\n",
       "      <td>90%</td>\n",
       "      <td>[Anthony Russo]</td>\n",
       "      <td>[Christopher Markus,  Stephen McFeely]</td>\n",
       "      <td>[Robert Downey Jr. , Mark Ruffalo , Scarlett J...</td>\n",
       "      <td>Avengers: Endgame</td>\n",
       "      <td>5f17b39c8fbba2e9aaf4294b</td>\n",
       "      <td>Apr 23, 2019</td>\n",
       "      <td>$400,000,000</td>\n",
       "      <td>$858,373,000</td>\n",
       "      <td>$2,797,800,564</td>\n",
       "    </tr>\n",
       "    <tr>\n",
       "      <th>1</th>\n",
       "      <td>5f1741c1eec2a42d5d9cc7ec</td>\n",
       "      <td>94%</td>\n",
       "      <td>90%</td>\n",
       "      <td>[Anthony Russo]</td>\n",
       "      <td>[Christopher Markus,  Stephen McFeely]</td>\n",
       "      <td>[Robert Downey Jr. , Mark Ruffalo , Scarlett J...</td>\n",
       "      <td>Avengers: Endgame</td>\n",
       "      <td>5f17b39c8fbba2e9aaf4294b</td>\n",
       "      <td>Apr 23, 2019</td>\n",
       "      <td>$400,000,000</td>\n",
       "      <td>$858,373,000</td>\n",
       "      <td>$2,797,800,564</td>\n",
       "    </tr>\n",
       "    <tr>\n",
       "      <th>2</th>\n",
       "      <td>5f17454eeec2a42d5d9cc837</td>\n",
       "      <td>94%</td>\n",
       "      <td>90%</td>\n",
       "      <td>[Anthony Russo]</td>\n",
       "      <td>[Christopher Markus,  Stephen McFeely]</td>\n",
       "      <td>[Robert Downey Jr. , Mark Ruffalo , Scarlett J...</td>\n",
       "      <td>Avengers: Endgame</td>\n",
       "      <td>5f17b39c8fbba2e9aaf4294b</td>\n",
       "      <td>Apr 23, 2019</td>\n",
       "      <td>$400,000,000</td>\n",
       "      <td>$858,373,000</td>\n",
       "      <td>$2,797,800,564</td>\n",
       "    </tr>\n",
       "    <tr>\n",
       "      <th>3</th>\n",
       "      <td>5f1748dbeec2a42d5d9cc882</td>\n",
       "      <td>94%</td>\n",
       "      <td>90%</td>\n",
       "      <td>[Anthony Russo]</td>\n",
       "      <td>[Christopher Markus,  Stephen McFeely]</td>\n",
       "      <td>[Robert Downey Jr. , Mark Ruffalo , Scarlett J...</td>\n",
       "      <td>Avengers: Endgame</td>\n",
       "      <td>5f17b39c8fbba2e9aaf4294b</td>\n",
       "      <td>Apr 23, 2019</td>\n",
       "      <td>$400,000,000</td>\n",
       "      <td>$858,373,000</td>\n",
       "      <td>$2,797,800,564</td>\n",
       "    </tr>\n",
       "    <tr>\n",
       "      <th>4</th>\n",
       "      <td>5f174c59eec2a42d5d9cc8cd</td>\n",
       "      <td>94%</td>\n",
       "      <td>90%</td>\n",
       "      <td>[Anthony Russo]</td>\n",
       "      <td>[Christopher Markus,  Stephen McFeely]</td>\n",
       "      <td>[Robert Downey Jr. , Mark Ruffalo , Scarlett J...</td>\n",
       "      <td>Avengers: Endgame</td>\n",
       "      <td>5f17b39c8fbba2e9aaf4294b</td>\n",
       "      <td>Apr 23, 2019</td>\n",
       "      <td>$400,000,000</td>\n",
       "      <td>$858,373,000</td>\n",
       "      <td>$2,797,800,564</td>\n",
       "    </tr>\n",
       "  </tbody>\n",
       "</table>\n",
       "</div>"
      ],
      "text/plain": [
       "                      _id_x rotten_tomato_rating audience_rating  \\\n",
       "0  5f173e2ceec2a42d5d9cc7a1                  94%             90%   \n",
       "1  5f1741c1eec2a42d5d9cc7ec                  94%             90%   \n",
       "2  5f17454eeec2a42d5d9cc837                  94%             90%   \n",
       "3  5f1748dbeec2a42d5d9cc882                  94%             90%   \n",
       "4  5f174c59eec2a42d5d9cc8cd                  94%             90%   \n",
       "\n",
       "          director                                 writers  \\\n",
       "0  [Anthony Russo]  [Christopher Markus,  Stephen McFeely]   \n",
       "1  [Anthony Russo]  [Christopher Markus,  Stephen McFeely]   \n",
       "2  [Anthony Russo]  [Christopher Markus,  Stephen McFeely]   \n",
       "3  [Anthony Russo]  [Christopher Markus,  Stephen McFeely]   \n",
       "4  [Anthony Russo]  [Christopher Markus,  Stephen McFeely]   \n",
       "\n",
       "                                        top_5_billed              title  \\\n",
       "0  [Robert Downey Jr. , Mark Ruffalo , Scarlett J...  Avengers: Endgame   \n",
       "1  [Robert Downey Jr. , Mark Ruffalo , Scarlett J...  Avengers: Endgame   \n",
       "2  [Robert Downey Jr. , Mark Ruffalo , Scarlett J...  Avengers: Endgame   \n",
       "3  [Robert Downey Jr. , Mark Ruffalo , Scarlett J...  Avengers: Endgame   \n",
       "4  [Robert Downey Jr. , Mark Ruffalo , Scarlett J...  Avengers: Endgame   \n",
       "\n",
       "                      _id_y          date         budget domestic_gross  \\\n",
       "0  5f17b39c8fbba2e9aaf4294b  Apr 23, 2019   $400,000,000   $858,373,000   \n",
       "1  5f17b39c8fbba2e9aaf4294b  Apr 23, 2019   $400,000,000   $858,373,000   \n",
       "2  5f17b39c8fbba2e9aaf4294b  Apr 23, 2019   $400,000,000   $858,373,000   \n",
       "3  5f17b39c8fbba2e9aaf4294b  Apr 23, 2019   $400,000,000   $858,373,000   \n",
       "4  5f17b39c8fbba2e9aaf4294b  Apr 23, 2019   $400,000,000   $858,373,000   \n",
       "\n",
       "   worldwide_gross  \n",
       "0   $2,797,800,564  \n",
       "1   $2,797,800,564  \n",
       "2   $2,797,800,564  \n",
       "3   $2,797,800,564  \n",
       "4   $2,797,800,564  "
      ]
     },
     "execution_count": 42,
     "metadata": {},
     "output_type": "execute_result"
    }
   ],
   "source": [
    "merged_db.head()"
   ]
  },
  {
   "cell_type": "code",
   "execution_count": 62,
   "metadata": {},
   "outputs": [],
   "source": [
    "merged_df = merged_db[['title', 'date', 'rotten_tomato_rating', 'audience_rating', 'budget', 'domestic_gross', 'worldwide_gross', 'director', 'writers', 'top_5_billed']]"
   ]
  },
  {
   "cell_type": "code",
   "execution_count": 45,
   "metadata": {},
   "outputs": [
    {
     "data": {
      "text/html": [
       "<div>\n",
       "<style scoped>\n",
       "    .dataframe tbody tr th:only-of-type {\n",
       "        vertical-align: middle;\n",
       "    }\n",
       "\n",
       "    .dataframe tbody tr th {\n",
       "        vertical-align: top;\n",
       "    }\n",
       "\n",
       "    .dataframe thead th {\n",
       "        text-align: right;\n",
       "    }\n",
       "</style>\n",
       "<table border=\"1\" class=\"dataframe\">\n",
       "  <thead>\n",
       "    <tr style=\"text-align: right;\">\n",
       "      <th></th>\n",
       "      <th>title</th>\n",
       "      <th>date</th>\n",
       "      <th>rotten_tomato_rating</th>\n",
       "      <th>audience_rating</th>\n",
       "      <th>budget</th>\n",
       "      <th>domestic_gross</th>\n",
       "      <th>worldwide_gross</th>\n",
       "      <th>director</th>\n",
       "      <th>writers</th>\n",
       "      <th>top_5_billed</th>\n",
       "    </tr>\n",
       "  </thead>\n",
       "  <tbody>\n",
       "    <tr>\n",
       "      <th>0</th>\n",
       "      <td>Avengers: Endgame</td>\n",
       "      <td>Apr 23, 2019</td>\n",
       "      <td>94%</td>\n",
       "      <td>90%</td>\n",
       "      <td>$400,000,000</td>\n",
       "      <td>$858,373,000</td>\n",
       "      <td>$2,797,800,564</td>\n",
       "      <td>[Anthony Russo]</td>\n",
       "      <td>[Christopher Markus,  Stephen McFeely]</td>\n",
       "      <td>[Robert Downey Jr. , Mark Ruffalo , Scarlett J...</td>\n",
       "    </tr>\n",
       "    <tr>\n",
       "      <th>1</th>\n",
       "      <td>Avengers: Endgame</td>\n",
       "      <td>Apr 23, 2019</td>\n",
       "      <td>94%</td>\n",
       "      <td>90%</td>\n",
       "      <td>$400,000,000</td>\n",
       "      <td>$858,373,000</td>\n",
       "      <td>$2,797,800,564</td>\n",
       "      <td>[Anthony Russo]</td>\n",
       "      <td>[Christopher Markus,  Stephen McFeely]</td>\n",
       "      <td>[Robert Downey Jr. , Mark Ruffalo , Scarlett J...</td>\n",
       "    </tr>\n",
       "    <tr>\n",
       "      <th>2</th>\n",
       "      <td>Avengers: Endgame</td>\n",
       "      <td>Apr 23, 2019</td>\n",
       "      <td>94%</td>\n",
       "      <td>90%</td>\n",
       "      <td>$400,000,000</td>\n",
       "      <td>$858,373,000</td>\n",
       "      <td>$2,797,800,564</td>\n",
       "      <td>[Anthony Russo]</td>\n",
       "      <td>[Christopher Markus,  Stephen McFeely]</td>\n",
       "      <td>[Robert Downey Jr. , Mark Ruffalo , Scarlett J...</td>\n",
       "    </tr>\n",
       "    <tr>\n",
       "      <th>3</th>\n",
       "      <td>Avengers: Endgame</td>\n",
       "      <td>Apr 23, 2019</td>\n",
       "      <td>94%</td>\n",
       "      <td>90%</td>\n",
       "      <td>$400,000,000</td>\n",
       "      <td>$858,373,000</td>\n",
       "      <td>$2,797,800,564</td>\n",
       "      <td>[Anthony Russo]</td>\n",
       "      <td>[Christopher Markus,  Stephen McFeely]</td>\n",
       "      <td>[Robert Downey Jr. , Mark Ruffalo , Scarlett J...</td>\n",
       "    </tr>\n",
       "    <tr>\n",
       "      <th>4</th>\n",
       "      <td>Avengers: Endgame</td>\n",
       "      <td>Apr 23, 2019</td>\n",
       "      <td>94%</td>\n",
       "      <td>90%</td>\n",
       "      <td>$400,000,000</td>\n",
       "      <td>$858,373,000</td>\n",
       "      <td>$2,797,800,564</td>\n",
       "      <td>[Anthony Russo]</td>\n",
       "      <td>[Christopher Markus,  Stephen McFeely]</td>\n",
       "      <td>[Robert Downey Jr. , Mark Ruffalo , Scarlett J...</td>\n",
       "    </tr>\n",
       "  </tbody>\n",
       "</table>\n",
       "</div>"
      ],
      "text/plain": [
       "               title          date rotten_tomato_rating audience_rating  \\\n",
       "0  Avengers: Endgame  Apr 23, 2019                  94%             90%   \n",
       "1  Avengers: Endgame  Apr 23, 2019                  94%             90%   \n",
       "2  Avengers: Endgame  Apr 23, 2019                  94%             90%   \n",
       "3  Avengers: Endgame  Apr 23, 2019                  94%             90%   \n",
       "4  Avengers: Endgame  Apr 23, 2019                  94%             90%   \n",
       "\n",
       "          budget domestic_gross  worldwide_gross         director  \\\n",
       "0   $400,000,000   $858,373,000   $2,797,800,564  [Anthony Russo]   \n",
       "1   $400,000,000   $858,373,000   $2,797,800,564  [Anthony Russo]   \n",
       "2   $400,000,000   $858,373,000   $2,797,800,564  [Anthony Russo]   \n",
       "3   $400,000,000   $858,373,000   $2,797,800,564  [Anthony Russo]   \n",
       "4   $400,000,000   $858,373,000   $2,797,800,564  [Anthony Russo]   \n",
       "\n",
       "                                  writers  \\\n",
       "0  [Christopher Markus,  Stephen McFeely]   \n",
       "1  [Christopher Markus,  Stephen McFeely]   \n",
       "2  [Christopher Markus,  Stephen McFeely]   \n",
       "3  [Christopher Markus,  Stephen McFeely]   \n",
       "4  [Christopher Markus,  Stephen McFeely]   \n",
       "\n",
       "                                        top_5_billed  \n",
       "0  [Robert Downey Jr. , Mark Ruffalo , Scarlett J...  \n",
       "1  [Robert Downey Jr. , Mark Ruffalo , Scarlett J...  \n",
       "2  [Robert Downey Jr. , Mark Ruffalo , Scarlett J...  \n",
       "3  [Robert Downey Jr. , Mark Ruffalo , Scarlett J...  \n",
       "4  [Robert Downey Jr. , Mark Ruffalo , Scarlett J...  "
      ]
     },
     "execution_count": 45,
     "metadata": {},
     "output_type": "execute_result"
    }
   ],
   "source": [
    "merged_df.head()"
   ]
  },
  {
   "cell_type": "code",
   "execution_count": 71,
   "metadata": {},
   "outputs": [
    {
     "name": "stderr",
     "output_type": "stream",
     "text": [
      "/Users/Michael/anaconda3/lib/python3.7/site-packages/ipykernel_launcher.py:1: SettingWithCopyWarning: \n",
      "A value is trying to be set on a copy of a slice from a DataFrame\n",
      "\n",
      "See the caveats in the documentation: https://pandas.pydata.org/pandas-docs/stable/user_guide/indexing.html#returning-a-view-versus-a-copy\n",
      "  \"\"\"Entry point for launching an IPython kernel.\n"
     ]
    }
   ],
   "source": [
    "merged_df.drop_duplicates(subset=\"title\", inplace=True)"
   ]
  },
  {
   "cell_type": "code",
   "execution_count": 51,
   "metadata": {},
   "outputs": [
    {
     "name": "stdout",
     "output_type": "stream",
     "text": [
      "<class 'pandas.core.frame.DataFrame'>\n",
      "Int64Index: 75 entries, 0 to 1436\n",
      "Data columns (total 10 columns):\n",
      " #   Column                Non-Null Count  Dtype \n",
      "---  ------                --------------  ----- \n",
      " 0   title                 75 non-null     object\n",
      " 1   date                  75 non-null     object\n",
      " 2   rotten_tomato_rating  75 non-null     object\n",
      " 3   audience_rating       75 non-null     object\n",
      " 4   budget                75 non-null     object\n",
      " 5   domestic_gross        75 non-null     object\n",
      " 6   worldwide_gross       75 non-null     object\n",
      " 7   director              75 non-null     object\n",
      " 8   writers               75 non-null     object\n",
      " 9   top_5_billed          75 non-null     object\n",
      "dtypes: object(10)\n",
      "memory usage: 6.4+ KB\n"
     ]
    }
   ],
   "source": [
    "merged_df.info()"
   ]
  },
  {
   "cell_type": "code",
   "execution_count": 54,
   "metadata": {},
   "outputs": [],
   "source": [
    "convert_dict = {'rotten_tomato_rating':int, 'audience_rating':int, 'budget':int, 'domestic_gross':int, 'worldwide_gross':int}"
   ]
  },
  {
   "cell_type": "code",
   "execution_count": 74,
   "metadata": {},
   "outputs": [],
   "source": [
    "budgets = budgets_pd.budget.str.replace('$','')\n",
    "domestic = budgets_pd.domestic_gross.str.replace('$','')\n",
    "worldwide = budgets_pd.worldwide_gross.str.replace('$','')\n",
    "rt_rating = merged_df.rotten_tomato_rating.str.replace('%','')\n",
    "aud_rating = merged_df.audience_rating.str.replace('%','')"
   ]
  },
  {
   "cell_type": "code",
   "execution_count": 107,
   "metadata": {},
   "outputs": [],
   "source": [
    "rt = rt_rating[::-1]"
   ]
  },
  {
   "cell_type": "code",
   "execution_count": 75,
   "metadata": {},
   "outputs": [
    {
     "data": {
      "text/plain": [
       "0        400,000,000\n",
       "1        379,000,000\n",
       "2        365,000,000\n",
       "3        306,000,000\n",
       "4        300,000,000\n",
       "            ...     \n",
       "6038           7,000\n",
       "6039           6,000\n",
       "6040           5,000\n",
       "6041           1,400\n",
       "6042           1,100\n",
       "Name: budget, Length: 6043, dtype: object"
      ]
     },
     "execution_count": 75,
     "metadata": {},
     "output_type": "execute_result"
    }
   ],
   "source": [
    "budgets"
   ]
  },
  {
   "cell_type": "code",
   "execution_count": 108,
   "metadata": {},
   "outputs": [],
   "source": [
    "b = budgets[:75]\n",
    "b = b[::-1]"
   ]
  },
  {
   "cell_type": "code",
   "execution_count": 91,
   "metadata": {},
   "outputs": [
    {
     "data": {
      "text/plain": [
       "'\\xa0400,000,000'"
      ]
     },
     "execution_count": 91,
     "metadata": {},
     "output_type": "execute_result"
    }
   ],
   "source": [
    "b.max()"
   ]
  },
  {
   "cell_type": "code",
   "execution_count": 98,
   "metadata": {},
   "outputs": [
    {
     "data": {
      "text/plain": [
       "(array([ 21.,  21.,  63.,  61.,  74.,  61.,  64.,  69.,  79., 133.,  75.,\n",
       "        137., 155., 106., 263., 283., 223., 279., 318., 330., 141., 140.,\n",
       "        196., 150., 215., 246.,  86., 131., 132.,  43., 144., 191., 165.,\n",
       "         73., 151.,  63.,  28., 175.,  85., 200.,  31.,  43.,  33., 101.,\n",
       "         85.,  47.,  45.,  18.,  41.,  29.]),\n",
       " array([  0. ,  10.5,  21. ,  31.5,  42. ,  52.5,  63. ,  73.5,  84. ,\n",
       "         94.5, 105. , 115.5, 126. , 136.5, 147. , 157.5, 168. , 178.5,\n",
       "        189. , 199.5, 210. , 220.5, 231. , 241.5, 252. , 262.5, 273. ,\n",
       "        283.5, 294. , 304.5, 315. , 325.5, 336. , 346.5, 357. , 367.5,\n",
       "        378. , 388.5, 399. , 409.5, 420. , 430.5, 441. , 451.5, 462. ,\n",
       "        472.5, 483. , 493.5, 504. , 514.5, 525. ]),\n",
       " <a list of 50 Patch objects>)"
      ]
     },
     "execution_count": 98,
     "metadata": {},
     "output_type": "execute_result"
    },
    {
     "data": {
      "image/png": "[encoded data removed]",
      "text/plain": [
       "<Figure size 1080x864 with 1 Axes>"
      ]
     },
     "metadata": {
      "needs_background": "light"
     },
     "output_type": "display_data"
    }
   ],
   "source": [
    "#budgets distribution\n",
    "fig, ax = plt.subplots(figsize =(15,12))\n",
    "ax.hist(budgets, 50)"
   ]
  },
  {
   "cell_type": "code",
   "execution_count": 127,
   "metadata": {},
   "outputs": [
    {
     "name": "stdout",
     "output_type": "stream",
     "text": [
      "[190000000, 195000000, 195000000, 195000000, 200000000, 200000000, 200000000, 200000000, 200000000, 200000000, 200000000, 200000000, 200000000, 200000000, 200000000, 200000000, 200000000, 200000000, 200000000, 200000000, 200000000, 200000000, 200000000, 200000000, 200000000, 200000000, 200000000, 200000000, 200000000, 200000000, 200000000, 200000000, 205000000, 207000000, 210000000, 210000000, 210000000, 210000000, 215000000, 215000000, 217000000, 220000000, 220000000, 224000000, 225000000, 225000000, 225000000, 225000000, 225000000, 230000000, 230000000, 230000000, 232000000, 237000000, 250000000, 250000000, 250000000, 250000000, 250000000, 250000000, 258000000, 260000000, 260000000, 263000000, 263700000, 275000000, 275000000, 300000000, 300000000, 300000000, 300000000, 306000000, 365000000, 379000000, 400000000]\n"
     ]
    }
   ],
   "source": [
    "_ = b.tolist()\n",
    "blist = []\n",
    "for num in _:\n",
    "    num = num.replace('\\xa0','')\n",
    "    num = num.replace(',', '')\n",
    "    blist.append(int(num))\n",
    "print(blist)"
   ]
  },
  {
   "cell_type": "code",
   "execution_count": 130,
   "metadata": {},
   "outputs": [
    {
     "name": "stdout",
     "output_type": "stream",
     "text": [
      "['94', '33', '76', '85', '51', '70', '52', '28', '93', '89', '91', '83', '74', '59', '67', '82', '75', '87', '30', '65', '31', '73', '34', '15', '70', '20', '18', '57', '84', '42', '89', '94', '84', '94', '97', '98', '79', '85', '92', '64', '80', '57', '90', '51', '39', '40', '36', '33', '26', '37', '23', '86', '35', '52', '82', '84', '66', '76', '94', '94', '78', '75', '86', '40', '88', '70', '57', '93', '53', '74', '95', '18', '36', '93', '48']\n",
      "[94, 33, 76, 85, 51, 70, 52, 28, 93, 89, 91, 83, 74, 59, 67, 82, 75, 87, 30, 65, 31, 73, 34, 15, 70, 20, 18, 57, 84, 42, 89, 94, 84, 94, 97, 98, 79, 85, 92, 64, 80, 57, 90, 51, 39, 40, 36, 33, 26, 37, 23, 86, 35, 52, 82, 84, 66, 76, 94, 94, 78, 75, 86, 40, 88, 70, 57, 93, 53, 74, 95, 18, 36, 93, 48]\n"
     ]
    }
   ],
   "source": [
    "_ = rt_rating.tolist()\n",
    "print(_)\n",
    "rtlist = []\n",
    "for num in _:\n",
    "#     num = num.replace('\\xa0','')\n",
    "#     num = num.replace(',', '')\n",
    "     rtlist.append(int(num))\n",
    "print(rtlist)"
   ]
  },
  {
   "cell_type": "code",
   "execution_count": 133,
   "metadata": {},
   "outputs": [
    {
     "data": {
      "text/plain": [
       "<matplotlib.collections.PathCollection at 0x7fc1289b0e90>"
      ]
     },
     "execution_count": 133,
     "metadata": {},
     "output_type": "execute_result"
    },
    {
     "data": {
      "image/png": "[encoded data removed]",
      "text/plain": [
       "<Figure size 1080x864 with 1 Axes>"
      ]
     },
     "metadata": {
      "needs_background": "light"
     },
     "output_type": "display_data"
    }
   ],
   "source": [
    "\n",
    "fig1, ax1 = plt.subplots(figsize=(15,12))\n",
    "y =  range(0,100,5)\n",
    "ax1.scatter(blist, rtlist)\n",
    "# ax1.set_ylim([0,100])\n",
    "# ax1.set_xlim([0, 100])"
   ]
  },
  {
   "cell_type": "code",
   "execution_count": null,
   "metadata": {},
   "outputs": [],
   "source": []
  }
 ],
 "metadata": {
  "kernelspec": {
   "display_name": "Python 3",
   "language": "python",
   "name": "python3"
  },
  "language_info": {
   "codemirror_mode": {
    "name": "ipython",
    "version": 3
   },
   "file_extension": ".py",
   "mimetype": "text/x-python",
   "name": "python",
   "nbconvert_exporter": "python",
   "pygments_lexer": "ipython3",
   "version": "3.7.7"
  }
 },
 "nbformat": 4,
 "nbformat_minor": 4
}
