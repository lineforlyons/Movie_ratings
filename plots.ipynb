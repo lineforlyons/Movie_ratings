{
 "cells": [
  {
   "cell_type": "code",
   "execution_count": 37,
   "metadata": {},
   "outputs": [],
   "source": [
    "from pymongo import MongoClient\n",
    "import pandas as pd\n",
    "import numpy as np\n",
    "import random\n",
    "\n",
    "#used if i need wildcard in bs\n",
    "import re\n",
    "\n",
    "import time\n",
    "import pprint\n",
    "\n",
    "import matplotlib.pyplot as plt"
   ]
  },
  {
   "cell_type": "code",
   "execution_count": 2,
   "metadata": {},
   "outputs": [],
   "source": [
    "client = MongoClient('localhost', 27017)\n",
    "db = client['scraper']\n",
    "whole_page_ratings = db['whole_page_rt']\n",
    "rt_ratings = db['rt_ratings']"
   ]
  },
  {
   "cell_type": "code",
   "execution_count": 157,
   "metadata": {},
   "outputs": [],
   "source": [
    "rt_pd = pd.DataFrame(list(rt_ratings.find()))"
   ]
  },
  {
   "cell_type": "code",
   "execution_count": 158,
   "metadata": {},
   "outputs": [
    {
     "data": {
      "text/html": [
       "<div>\n",
       "<style scoped>\n",
       "    .dataframe tbody tr th:only-of-type {\n",
       "        vertical-align: middle;\n",
       "    }\n",
       "\n",
       "    .dataframe tbody tr th {\n",
       "        vertical-align: top;\n",
       "    }\n",
       "\n",
       "    .dataframe thead th {\n",
       "        text-align: right;\n",
       "    }\n",
       "</style>\n",
       "<table border=\"1\" class=\"dataframe\">\n",
       "  <thead>\n",
       "    <tr style=\"text-align: right;\">\n",
       "      <th></th>\n",
       "      <th>_id</th>\n",
       "      <th>title</th>\n",
       "      <th>rotten_tomato_rating</th>\n",
       "      <th>audience_rating</th>\n",
       "      <th>director</th>\n",
       "      <th>writers</th>\n",
       "      <th>top_5_billed</th>\n",
       "    </tr>\n",
       "  </thead>\n",
       "  <tbody>\n",
       "    <tr>\n",
       "      <th>1114</th>\n",
       "      <td>5f1884b8eec2a42d5d9cd2b8</td>\n",
       "      <td>Sicario: Day of the Soldado</td>\n",
       "      <td>62%</td>\n",
       "      <td>64%</td>\n",
       "      <td>[Stefano Sollima]</td>\n",
       "      <td>[Taylor Sheridan]</td>\n",
       "      <td>[Benicio Del Toro , Josh Brolin , Isabela Merc...</td>\n",
       "    </tr>\n",
       "    <tr>\n",
       "      <th>1115</th>\n",
       "      <td>5f1884c5eec2a42d5d9cd2b9</td>\n",
       "      <td>Poltergeist</td>\n",
       "      <td>85%</td>\n",
       "      <td>78%</td>\n",
       "      <td>[Tobe Hooper]</td>\n",
       "      <td>[Mark Victor,  Michael Grais,  Steven Spielberg]</td>\n",
       "      <td>[JoBeth Williams , Craig T. Nelson , Beatrice ...</td>\n",
       "    </tr>\n",
       "    <tr>\n",
       "      <th>1116</th>\n",
       "      <td>5f1884cceec2a42d5d9cd2ba</td>\n",
       "      <td>Goosebumps 2: Haunted Halloween</td>\n",
       "      <td>47%</td>\n",
       "      <td>38%</td>\n",
       "      <td>[Ari Sandel]</td>\n",
       "      <td>[Rob Lieber]</td>\n",
       "      <td>[Wendi McLendon-Covey , Madison Iseman , Jerem...</td>\n",
       "    </tr>\n",
       "    <tr>\n",
       "      <th>1117</th>\n",
       "      <td>5f1884d3eec2a42d5d9cd2bb</td>\n",
       "      <td>12 Strong</td>\n",
       "      <td>51%</td>\n",
       "      <td>62%</td>\n",
       "      <td>[Nicolai Fuglsig]</td>\n",
       "      <td>[Peter Craig,  Ted Tally]</td>\n",
       "      <td>[Chris Hemsworth , Michael Shannon , Michael P...</td>\n",
       "    </tr>\n",
       "    <tr>\n",
       "      <th>1118</th>\n",
       "      <td>5f1884e1eec2a42d5d9cd2bc</td>\n",
       "      <td>Must Love Dogs</td>\n",
       "      <td>36%</td>\n",
       "      <td>50%</td>\n",
       "      <td>[Gary David Goldberg]</td>\n",
       "      <td>[Gary David Goldberg]</td>\n",
       "      <td>[Diane Lane , John Cusack , Elizabeth Perkins ...</td>\n",
       "    </tr>\n",
       "    <tr>\n",
       "      <th>...</th>\n",
       "      <td>...</td>\n",
       "      <td>...</td>\n",
       "      <td>...</td>\n",
       "      <td>...</td>\n",
       "      <td>...</td>\n",
       "      <td>...</td>\n",
       "      <td>...</td>\n",
       "    </tr>\n",
       "    <tr>\n",
       "      <th>1209</th>\n",
       "      <td>5f1889e6eec2a42d5d9cd317</td>\n",
       "      <td>Bogus</td>\n",
       "      <td>44%</td>\n",
       "      <td>44%</td>\n",
       "      <td>[Norman Jewison]</td>\n",
       "      <td>[Alvin Sargent]</td>\n",
       "      <td>[Whoopi Goldberg , Gérard Depardieu , Haley Jo...</td>\n",
       "    </tr>\n",
       "    <tr>\n",
       "      <th>1210</th>\n",
       "      <td>5f1889f2eec2a42d5d9cd318</td>\n",
       "      <td>Cradle Will Rock</td>\n",
       "      <td>64%</td>\n",
       "      <td>71%</td>\n",
       "      <td>[Tim Robbins]</td>\n",
       "      <td>[Tim Robbins]</td>\n",
       "      <td>[Hank Azaria , Ruben Blades , Joan Cusack , Jo...</td>\n",
       "    </tr>\n",
       "    <tr>\n",
       "      <th>1211</th>\n",
       "      <td>5f1889fbeec2a42d5d9cd319</td>\n",
       "      <td>The Good German</td>\n",
       "      <td>34%</td>\n",
       "      <td>33%</td>\n",
       "      <td>[Steven Soderbergh]</td>\n",
       "      <td>[Joseph Kanon,  Paul Attanasio]</td>\n",
       "      <td>[George Clooney , Cate Blanchett , Tobey Magui...</td>\n",
       "    </tr>\n",
       "    <tr>\n",
       "      <th>1212</th>\n",
       "      <td>5f188a10eec2a42d5d9cd31a</td>\n",
       "      <td>Apocalypse Now</td>\n",
       "      <td>98%</td>\n",
       "      <td>94%</td>\n",
       "      <td>[Francis Ford Coppola]</td>\n",
       "      <td>[John Milius,  Francis Ford Coppola,  Michael ...</td>\n",
       "      <td>[Martin Sheen , Marlon Brando , Robert Duvall ...</td>\n",
       "    </tr>\n",
       "    <tr>\n",
       "      <th>1213</th>\n",
       "      <td>5f188a33eec2a42d5d9cd31b</td>\n",
       "      <td>Out of Africa</td>\n",
       "      <td>58%</td>\n",
       "      <td>83%</td>\n",
       "      <td>[Sydney Pollack]</td>\n",
       "      <td>[Kurt Luedtke,  Kurt Luedtke]</td>\n",
       "      <td>[Meryl Streep , Robert Redford , Klaus Maria B...</td>\n",
       "    </tr>\n",
       "  </tbody>\n",
       "</table>\n",
       "<p>100 rows × 7 columns</p>\n",
       "</div>"
      ],
      "text/plain": [
       "                           _id                            title  \\\n",
       "1114  5f1884b8eec2a42d5d9cd2b8      Sicario: Day of the Soldado   \n",
       "1115  5f1884c5eec2a42d5d9cd2b9                      Poltergeist   \n",
       "1116  5f1884cceec2a42d5d9cd2ba  Goosebumps 2: Haunted Halloween   \n",
       "1117  5f1884d3eec2a42d5d9cd2bb                        12 Strong   \n",
       "1118  5f1884e1eec2a42d5d9cd2bc                   Must Love Dogs   \n",
       "...                        ...                              ...   \n",
       "1209  5f1889e6eec2a42d5d9cd317                            Bogus   \n",
       "1210  5f1889f2eec2a42d5d9cd318                 Cradle Will Rock   \n",
       "1211  5f1889fbeec2a42d5d9cd319                  The Good German   \n",
       "1212  5f188a10eec2a42d5d9cd31a                   Apocalypse Now   \n",
       "1213  5f188a33eec2a42d5d9cd31b                    Out of Africa   \n",
       "\n",
       "     rotten_tomato_rating audience_rating                director  \\\n",
       "1114                  62%             64%       [Stefano Sollima]   \n",
       "1115                  85%             78%           [Tobe Hooper]   \n",
       "1116                  47%             38%            [Ari Sandel]   \n",
       "1117                  51%             62%       [Nicolai Fuglsig]   \n",
       "1118                  36%             50%   [Gary David Goldberg]   \n",
       "...                   ...             ...                     ...   \n",
       "1209                  44%             44%        [Norman Jewison]   \n",
       "1210                  64%             71%           [Tim Robbins]   \n",
       "1211                  34%             33%     [Steven Soderbergh]   \n",
       "1212                  98%             94%  [Francis Ford Coppola]   \n",
       "1213                  58%             83%        [Sydney Pollack]   \n",
       "\n",
       "                                                writers  \\\n",
       "1114                                  [Taylor Sheridan]   \n",
       "1115   [Mark Victor,  Michael Grais,  Steven Spielberg]   \n",
       "1116                                       [Rob Lieber]   \n",
       "1117                          [Peter Craig,  Ted Tally]   \n",
       "1118                              [Gary David Goldberg]   \n",
       "...                                                 ...   \n",
       "1209                                    [Alvin Sargent]   \n",
       "1210                                      [Tim Robbins]   \n",
       "1211                    [Joseph Kanon,  Paul Attanasio]   \n",
       "1212  [John Milius,  Francis Ford Coppola,  Michael ...   \n",
       "1213                      [Kurt Luedtke,  Kurt Luedtke]   \n",
       "\n",
       "                                           top_5_billed  \n",
       "1114  [Benicio Del Toro , Josh Brolin , Isabela Merc...  \n",
       "1115  [JoBeth Williams , Craig T. Nelson , Beatrice ...  \n",
       "1116  [Wendi McLendon-Covey , Madison Iseman , Jerem...  \n",
       "1117  [Chris Hemsworth , Michael Shannon , Michael P...  \n",
       "1118  [Diane Lane , John Cusack , Elizabeth Perkins ...  \n",
       "...                                                 ...  \n",
       "1209  [Whoopi Goldberg , Gérard Depardieu , Haley Jo...  \n",
       "1210  [Hank Azaria , Ruben Blades , Joan Cusack , Jo...  \n",
       "1211  [George Clooney , Cate Blanchett , Tobey Magui...  \n",
       "1212  [Martin Sheen , Marlon Brando , Robert Duvall ...  \n",
       "1213  [Meryl Streep , Robert Redford , Klaus Maria B...  \n",
       "\n",
       "[100 rows x 7 columns]"
      ]
     },
     "execution_count": 158,
     "metadata": {},
     "output_type": "execute_result"
    }
   ],
   "source": [
    "rt_pd.tail(100)"
   ]
  },
  {
   "cell_type": "code",
   "execution_count": 39,
   "metadata": {},
   "outputs": [],
   "source": [
    "budgets_pd = pd.read_csv('data/budgets_pd.csv')"
   ]
  },
  {
   "cell_type": "code",
   "execution_count": 40,
   "metadata": {},
   "outputs": [
    {
     "data": {
      "text/html": [
       "<div>\n",
       "<style scoped>\n",
       "    .dataframe tbody tr th:only-of-type {\n",
       "        vertical-align: middle;\n",
       "    }\n",
       "\n",
       "    .dataframe tbody tr th {\n",
       "        vertical-align: top;\n",
       "    }\n",
       "\n",
       "    .dataframe thead th {\n",
       "        text-align: right;\n",
       "    }\n",
       "</style>\n",
       "<table border=\"1\" class=\"dataframe\">\n",
       "  <thead>\n",
       "    <tr style=\"text-align: right;\">\n",
       "      <th></th>\n",
       "      <th>_id</th>\n",
       "      <th>date</th>\n",
       "      <th>title</th>\n",
       "      <th>budget</th>\n",
       "      <th>domestic_gross</th>\n",
       "      <th>worldwide_gross</th>\n",
       "    </tr>\n",
       "  </thead>\n",
       "  <tbody>\n",
       "    <tr>\n",
       "      <th>6033</th>\n",
       "      <td>5f17b5918fbba2e9aaf44118</td>\n",
       "      <td>Jan 13, 2012</td>\n",
       "      <td>Newlyweds</td>\n",
       "      <td>$9,000</td>\n",
       "      <td>$4,584</td>\n",
       "      <td>$4,584</td>\n",
       "    </tr>\n",
       "    <tr>\n",
       "      <th>6034</th>\n",
       "      <td>5f17b5918fbba2e9aaf44119</td>\n",
       "      <td>Feb 26, 1993</td>\n",
       "      <td>El Mariachi</td>\n",
       "      <td>$7,000</td>\n",
       "      <td>$2,040,920</td>\n",
       "      <td>$2,041,928</td>\n",
       "    </tr>\n",
       "    <tr>\n",
       "      <th>6035</th>\n",
       "      <td>5f17b5918fbba2e9aaf4411a</td>\n",
       "      <td>Oct 8, 2004</td>\n",
       "      <td>Primer</td>\n",
       "      <td>$7,000</td>\n",
       "      <td>$424,760</td>\n",
       "      <td>$841,926</td>\n",
       "    </tr>\n",
       "    <tr>\n",
       "      <th>6036</th>\n",
       "      <td>5f17b5918fbba2e9aaf4411b</td>\n",
       "      <td>May 26, 2006</td>\n",
       "      <td>Cavite</td>\n",
       "      <td>$7,000</td>\n",
       "      <td>$70,071</td>\n",
       "      <td>$71,644</td>\n",
       "    </tr>\n",
       "    <tr>\n",
       "      <th>6037</th>\n",
       "      <td>5f17b5918fbba2e9aaf4411c</td>\n",
       "      <td>Unknown</td>\n",
       "      <td>The Mongol King</td>\n",
       "      <td>$7,000</td>\n",
       "      <td>$900</td>\n",
       "      <td>$900</td>\n",
       "    </tr>\n",
       "    <tr>\n",
       "      <th>6038</th>\n",
       "      <td>5f17b5918fbba2e9aaf4411d</td>\n",
       "      <td>Unknown</td>\n",
       "      <td>Red 11</td>\n",
       "      <td>$7,000</td>\n",
       "      <td>$0</td>\n",
       "      <td>$0</td>\n",
       "    </tr>\n",
       "    <tr>\n",
       "      <th>6039</th>\n",
       "      <td>5f17b5918fbba2e9aaf4411e</td>\n",
       "      <td>Apr 2, 1999</td>\n",
       "      <td>Following</td>\n",
       "      <td>$6,000</td>\n",
       "      <td>$48,482</td>\n",
       "      <td>$240,495</td>\n",
       "    </tr>\n",
       "    <tr>\n",
       "      <th>6040</th>\n",
       "      <td>5f17b5918fbba2e9aaf4411f</td>\n",
       "      <td>Jul 13, 2005</td>\n",
       "      <td>Return to the Land of Wonders</td>\n",
       "      <td>$5,000</td>\n",
       "      <td>$1,338</td>\n",
       "      <td>$1,338</td>\n",
       "    </tr>\n",
       "    <tr>\n",
       "      <th>6041</th>\n",
       "      <td>5f17b5918fbba2e9aaf44120</td>\n",
       "      <td>Sep 29, 2015</td>\n",
       "      <td>A Plague So Pleasant</td>\n",
       "      <td>$1,400</td>\n",
       "      <td>$0</td>\n",
       "      <td>$0</td>\n",
       "    </tr>\n",
       "    <tr>\n",
       "      <th>6042</th>\n",
       "      <td>5f17b5918fbba2e9aaf44121</td>\n",
       "      <td>Aug 5, 2005</td>\n",
       "      <td>My Date With Drew</td>\n",
       "      <td>$1,100</td>\n",
       "      <td>$181,041</td>\n",
       "      <td>$181,041</td>\n",
       "    </tr>\n",
       "  </tbody>\n",
       "</table>\n",
       "</div>"
      ],
      "text/plain": [
       "                           _id          date                          title  \\\n",
       "6033  5f17b5918fbba2e9aaf44118  Jan 13, 2012                      Newlyweds   \n",
       "6034  5f17b5918fbba2e9aaf44119  Feb 26, 1993                    El Mariachi   \n",
       "6035  5f17b5918fbba2e9aaf4411a   Oct 8, 2004                         Primer   \n",
       "6036  5f17b5918fbba2e9aaf4411b  May 26, 2006                         Cavite   \n",
       "6037  5f17b5918fbba2e9aaf4411c       Unknown                The Mongol King   \n",
       "6038  5f17b5918fbba2e9aaf4411d       Unknown                         Red 11   \n",
       "6039  5f17b5918fbba2e9aaf4411e   Apr 2, 1999                      Following   \n",
       "6040  5f17b5918fbba2e9aaf4411f  Jul 13, 2005  Return to the Land of Wonders   \n",
       "6041  5f17b5918fbba2e9aaf44120  Sep 29, 2015           A Plague So Pleasant   \n",
       "6042  5f17b5918fbba2e9aaf44121   Aug 5, 2005              My Date With Drew   \n",
       "\n",
       "       budget domestic_gross worldwide_gross  \n",
       "6033   $9,000         $4,584          $4,584  \n",
       "6034   $7,000     $2,040,920      $2,041,928  \n",
       "6035   $7,000       $424,760        $841,926  \n",
       "6036   $7,000        $70,071         $71,644  \n",
       "6037   $7,000           $900            $900  \n",
       "6038   $7,000             $0              $0  \n",
       "6039   $6,000        $48,482        $240,495  \n",
       "6040   $5,000         $1,338          $1,338  \n",
       "6041   $1,400             $0              $0  \n",
       "6042   $1,100       $181,041        $181,041  "
      ]
     },
     "execution_count": 40,
     "metadata": {},
     "output_type": "execute_result"
    }
   ],
   "source": [
    "budgets_pd.tail(10)"
   ]
  },
  {
   "cell_type": "code",
   "execution_count": null,
   "metadata": {},
   "outputs": [],
   "source": [
    "# graphs/plots\n",
    "# 1 histogram of budgets\n",
    "# budget vs critic rating\n",
    "# budget vs audience rating\n",
    "# maybe counts of oscar actors in movies >90% rated\n",
    "# maybe counts of oscar directors in movies >90%\n",
    "# maybe counts of oscar writers in movies >90%"
   ]
  },
  {
   "cell_type": "code",
   "execution_count": 160,
   "metadata": {},
   "outputs": [],
   "source": [
    "merged_db = pd.merge(rt_pd, budgets_pd, on='title')"
   ]
  },
  {
   "cell_type": "code",
   "execution_count": 141,
   "metadata": {},
   "outputs": [
    {
     "data": {
      "text/html": [
       "<div>\n",
       "<style scoped>\n",
       "    .dataframe tbody tr th:only-of-type {\n",
       "        vertical-align: middle;\n",
       "    }\n",
       "\n",
       "    .dataframe tbody tr th {\n",
       "        vertical-align: top;\n",
       "    }\n",
       "\n",
       "    .dataframe thead th {\n",
       "        text-align: right;\n",
       "    }\n",
       "</style>\n",
       "<table border=\"1\" class=\"dataframe\">\n",
       "  <thead>\n",
       "    <tr style=\"text-align: right;\">\n",
       "      <th></th>\n",
       "      <th>_id_x</th>\n",
       "      <th>title</th>\n",
       "      <th>rotten_tomato_rating</th>\n",
       "      <th>audience_rating</th>\n",
       "      <th>director</th>\n",
       "      <th>writers</th>\n",
       "      <th>top_5_billed</th>\n",
       "      <th>_id_y</th>\n",
       "      <th>date</th>\n",
       "      <th>budget</th>\n",
       "      <th>domestic_gross</th>\n",
       "      <th>worldwide_gross</th>\n",
       "    </tr>\n",
       "  </thead>\n",
       "  <tbody>\n",
       "    <tr>\n",
       "      <th>0</th>\n",
       "      <td>5f184b72eec2a42d5d9cce5e</td>\n",
       "      <td>Avengers: Endgame</td>\n",
       "      <td>94%</td>\n",
       "      <td>90%</td>\n",
       "      <td>[Anthony Russo]</td>\n",
       "      <td>[Christopher Markus,  Stephen McFeely]</td>\n",
       "      <td>[Robert Downey Jr. , Mark Ruffalo , Scarlett J...</td>\n",
       "      <td>5f17b39c8fbba2e9aaf4294b</td>\n",
       "      <td>Apr 23, 2019</td>\n",
       "      <td>$400,000,000</td>\n",
       "      <td>$858,373,000</td>\n",
       "      <td>$2,797,800,564</td>\n",
       "    </tr>\n",
       "    <tr>\n",
       "      <th>1</th>\n",
       "      <td>5f184b81eec2a42d5d9cce5f</td>\n",
       "      <td>Pirates of the Caribbean: On Stranger Tides</td>\n",
       "      <td>33%</td>\n",
       "      <td>54%</td>\n",
       "      <td>[Dariusz Wolski,  Rob Marshall]</td>\n",
       "      <td>[Rob Marshall,  Terry Rossio,  Ted Elliott]</td>\n",
       "      <td>[Johnny Depp , Penelope Cruz , Ian McShane , G...</td>\n",
       "      <td>5f17b39c8fbba2e9aaf4294c</td>\n",
       "      <td>May 20, 2011</td>\n",
       "      <td>$379,000,000</td>\n",
       "      <td>$241,063,875</td>\n",
       "      <td>$1,045,663,875</td>\n",
       "    </tr>\n",
       "    <tr>\n",
       "      <th>2</th>\n",
       "      <td>5f184b90eec2a42d5d9cce60</td>\n",
       "      <td>Avengers: Age of Ultron</td>\n",
       "      <td>76%</td>\n",
       "      <td>83%</td>\n",
       "      <td>[Joss Whedon]</td>\n",
       "      <td>[Stan Lee,  Jack Kirby,  Joss Whedon]</td>\n",
       "      <td>[Robert Downey Jr. , Chris Evans , Mark Ruffal...</td>\n",
       "      <td>5f17b39c8fbba2e9aaf4294d</td>\n",
       "      <td>Apr 22, 2015</td>\n",
       "      <td>$365,000,000</td>\n",
       "      <td>$459,005,868</td>\n",
       "      <td>$1,396,099,202</td>\n",
       "    </tr>\n",
       "    <tr>\n",
       "      <th>3</th>\n",
       "      <td>5f184ba0eec2a42d5d9cce61</td>\n",
       "      <td>Avengers: Infinity War</td>\n",
       "      <td>85%</td>\n",
       "      <td>91%</td>\n",
       "      <td>[Anthony Russo]</td>\n",
       "      <td>[Christopher Markus,  Stephen McFeely]</td>\n",
       "      <td>[Robert Downey Jr. , Chris Hemsworth , Mark Ru...</td>\n",
       "      <td>5f17b39c8fbba2e9aaf4294f</td>\n",
       "      <td>Apr 25, 2018</td>\n",
       "      <td>$300,000,000</td>\n",
       "      <td>$678,815,482</td>\n",
       "      <td>$2,048,359,754</td>\n",
       "    </tr>\n",
       "    <tr>\n",
       "      <th>4</th>\n",
       "      <td>5f184bbeeec2a42d5d9cce62</td>\n",
       "      <td>Star Wars: The Rise of Skywalker</td>\n",
       "      <td>51%</td>\n",
       "      <td>86%</td>\n",
       "      <td>[J.J. Abrams]</td>\n",
       "      <td>[J.J. Abrams,  Chris Terrio]</td>\n",
       "      <td>[Carrie Fisher , Mark Hamill , Adam Driver , D...</td>\n",
       "      <td>5f17b39c8fbba2e9aaf42953</td>\n",
       "      <td>Dec 18, 2019</td>\n",
       "      <td>$275,000,000</td>\n",
       "      <td>$515,202,542</td>\n",
       "      <td>$1,073,469,600</td>\n",
       "    </tr>\n",
       "  </tbody>\n",
       "</table>\n",
       "</div>"
      ],
      "text/plain": [
       "                      _id_x                                        title  \\\n",
       "0  5f184b72eec2a42d5d9cce5e                            Avengers: Endgame   \n",
       "1  5f184b81eec2a42d5d9cce5f  Pirates of the Caribbean: On Stranger Tides   \n",
       "2  5f184b90eec2a42d5d9cce60                      Avengers: Age of Ultron   \n",
       "3  5f184ba0eec2a42d5d9cce61                       Avengers: Infinity War   \n",
       "4  5f184bbeeec2a42d5d9cce62             Star Wars: The Rise of Skywalker   \n",
       "\n",
       "  rotten_tomato_rating audience_rating                         director  \\\n",
       "0                  94%             90%                  [Anthony Russo]   \n",
       "1                  33%             54%  [Dariusz Wolski,  Rob Marshall]   \n",
       "2                  76%             83%                    [Joss Whedon]   \n",
       "3                  85%             91%                  [Anthony Russo]   \n",
       "4                  51%             86%                    [J.J. Abrams]   \n",
       "\n",
       "                                       writers  \\\n",
       "0       [Christopher Markus,  Stephen McFeely]   \n",
       "1  [Rob Marshall,  Terry Rossio,  Ted Elliott]   \n",
       "2        [Stan Lee,  Jack Kirby,  Joss Whedon]   \n",
       "3       [Christopher Markus,  Stephen McFeely]   \n",
       "4                 [J.J. Abrams,  Chris Terrio]   \n",
       "\n",
       "                                        top_5_billed  \\\n",
       "0  [Robert Downey Jr. , Mark Ruffalo , Scarlett J...   \n",
       "1  [Johnny Depp , Penelope Cruz , Ian McShane , G...   \n",
       "2  [Robert Downey Jr. , Chris Evans , Mark Ruffal...   \n",
       "3  [Robert Downey Jr. , Chris Hemsworth , Mark Ru...   \n",
       "4  [Carrie Fisher , Mark Hamill , Adam Driver , D...   \n",
       "\n",
       "                      _id_y          date         budget domestic_gross  \\\n",
       "0  5f17b39c8fbba2e9aaf4294b  Apr 23, 2019   $400,000,000   $858,373,000   \n",
       "1  5f17b39c8fbba2e9aaf4294c  May 20, 2011   $379,000,000   $241,063,875   \n",
       "2  5f17b39c8fbba2e9aaf4294d  Apr 22, 2015   $365,000,000   $459,005,868   \n",
       "3  5f17b39c8fbba2e9aaf4294f  Apr 25, 2018   $300,000,000   $678,815,482   \n",
       "4  5f17b39c8fbba2e9aaf42953  Dec 18, 2019   $275,000,000   $515,202,542   \n",
       "\n",
       "   worldwide_gross  \n",
       "0   $2,797,800,564  \n",
       "1   $1,045,663,875  \n",
       "2   $1,396,099,202  \n",
       "3   $2,048,359,754  \n",
       "4   $1,073,469,600  "
      ]
     },
     "execution_count": 141,
     "metadata": {},
     "output_type": "execute_result"
    }
   ],
   "source": [
    "merged_db.head()"
   ]
  },
  {
   "cell_type": "code",
   "execution_count": 161,
   "metadata": {},
   "outputs": [],
   "source": [
    "merged_df = merged_db[['title', 'date', 'rotten_tomato_rating', 'audience_rating', 'budget', 'domestic_gross', 'worldwide_gross', 'director', 'writers', 'top_5_billed']]"
   ]
  },
  {
   "cell_type": "code",
   "execution_count": 144,
   "metadata": {},
   "outputs": [
    {
     "data": {
      "text/html": [
       "<div>\n",
       "<style scoped>\n",
       "    .dataframe tbody tr th:only-of-type {\n",
       "        vertical-align: middle;\n",
       "    }\n",
       "\n",
       "    .dataframe tbody tr th {\n",
       "        vertical-align: top;\n",
       "    }\n",
       "\n",
       "    .dataframe thead th {\n",
       "        text-align: right;\n",
       "    }\n",
       "</style>\n",
       "<table border=\"1\" class=\"dataframe\">\n",
       "  <thead>\n",
       "    <tr style=\"text-align: right;\">\n",
       "      <th></th>\n",
       "      <th>title</th>\n",
       "      <th>date</th>\n",
       "      <th>rotten_tomato_rating</th>\n",
       "      <th>audience_rating</th>\n",
       "      <th>budget</th>\n",
       "      <th>domestic_gross</th>\n",
       "      <th>worldwide_gross</th>\n",
       "      <th>director</th>\n",
       "      <th>writers</th>\n",
       "      <th>top_5_billed</th>\n",
       "    </tr>\n",
       "  </thead>\n",
       "  <tbody>\n",
       "    <tr>\n",
       "      <th>407</th>\n",
       "      <td>Yogi Bear</td>\n",
       "      <td>Dec 17, 2010</td>\n",
       "      <td>13%</td>\n",
       "      <td>34%</td>\n",
       "      <td>$80,000,000</td>\n",
       "      <td>$100,246,011</td>\n",
       "      <td>$204,774,690</td>\n",
       "      <td>[Eric Brevig]</td>\n",
       "      <td>[Joshua Sternin,  Jeffrey Ventimilia,  Brad Co...</td>\n",
       "      <td>[Dan Aykroyd , Justin Timberlake , Anna Faris ...</td>\n",
       "    </tr>\n",
       "    <tr>\n",
       "      <th>408</th>\n",
       "      <td>Cold Mountain</td>\n",
       "      <td>Dec 25, 2003</td>\n",
       "      <td>70%</td>\n",
       "      <td>77%</td>\n",
       "      <td>$80,000,000</td>\n",
       "      <td>$95,632,614</td>\n",
       "      <td>$165,173,909</td>\n",
       "      <td>[Anthony Minghella]</td>\n",
       "      <td>[Anthony Minghella]</td>\n",
       "      <td>[Nicole Kidman , Jude Law , Renée Zellweger , ...</td>\n",
       "    </tr>\n",
       "    <tr>\n",
       "      <th>409</th>\n",
       "      <td>The Book of Eli</td>\n",
       "      <td>Jan 15, 2010</td>\n",
       "      <td>47%</td>\n",
       "      <td>64%</td>\n",
       "      <td>$80,000,000</td>\n",
       "      <td>$94,835,059</td>\n",
       "      <td>$158,750,817</td>\n",
       "      <td>[Albert Hughes,  Allen Hughes]</td>\n",
       "      <td>[Anthony Peckham,  Gary Whitta]</td>\n",
       "      <td>[Denzel Washington , Gary Oldman , Mila Kunis ...</td>\n",
       "    </tr>\n",
       "    <tr>\n",
       "      <th>410</th>\n",
       "      <td>Flubber</td>\n",
       "      <td>Nov 26, 1997</td>\n",
       "      <td>24%</td>\n",
       "      <td>33%</td>\n",
       "      <td>$80,000,000</td>\n",
       "      <td>$92,993,801</td>\n",
       "      <td>$177,993,801</td>\n",
       "      <td>[Les Mayfield]</td>\n",
       "      <td>[Bill Walsh,  John Hughes]</td>\n",
       "      <td>[Robin Williams , Marcia Gay Harden , Christop...</td>\n",
       "    </tr>\n",
       "    <tr>\n",
       "      <th>411</th>\n",
       "      <td>Space Jam</td>\n",
       "      <td>Nov 15, 1996</td>\n",
       "      <td>43%</td>\n",
       "      <td>63%</td>\n",
       "      <td>$80,000,000</td>\n",
       "      <td>$90,463,534</td>\n",
       "      <td>$250,180,384</td>\n",
       "      <td>[Joe Pytka]</td>\n",
       "      <td>[Leo Benvenuti,  Steve Rudnick,  Timothy Harri...</td>\n",
       "      <td>[Michael Jordan , Charles Barkley , Patrick Ew...</td>\n",
       "    </tr>\n",
       "  </tbody>\n",
       "</table>\n",
       "</div>"
      ],
      "text/plain": [
       "               title          date rotten_tomato_rating audience_rating  \\\n",
       "407        Yogi Bear  Dec 17, 2010                  13%             34%   \n",
       "408    Cold Mountain  Dec 25, 2003                  70%             77%   \n",
       "409  The Book of Eli  Jan 15, 2010                  47%             64%   \n",
       "410          Flubber  Nov 26, 1997                  24%             33%   \n",
       "411        Space Jam  Nov 15, 1996                  43%             63%   \n",
       "\n",
       "           budget domestic_gross worldwide_gross  \\\n",
       "407   $80,000,000   $100,246,011    $204,774,690   \n",
       "408   $80,000,000    $95,632,614    $165,173,909   \n",
       "409   $80,000,000    $94,835,059    $158,750,817   \n",
       "410   $80,000,000    $92,993,801    $177,993,801   \n",
       "411   $80,000,000    $90,463,534    $250,180,384   \n",
       "\n",
       "                           director  \\\n",
       "407                   [Eric Brevig]   \n",
       "408             [Anthony Minghella]   \n",
       "409  [Albert Hughes,  Allen Hughes]   \n",
       "410                  [Les Mayfield]   \n",
       "411                     [Joe Pytka]   \n",
       "\n",
       "                                               writers  \\\n",
       "407  [Joshua Sternin,  Jeffrey Ventimilia,  Brad Co...   \n",
       "408                                [Anthony Minghella]   \n",
       "409                    [Anthony Peckham,  Gary Whitta]   \n",
       "410                         [Bill Walsh,  John Hughes]   \n",
       "411  [Leo Benvenuti,  Steve Rudnick,  Timothy Harri...   \n",
       "\n",
       "                                          top_5_billed  \n",
       "407  [Dan Aykroyd , Justin Timberlake , Anna Faris ...  \n",
       "408  [Nicole Kidman , Jude Law , Renée Zellweger , ...  \n",
       "409  [Denzel Washington , Gary Oldman , Mila Kunis ...  \n",
       "410  [Robin Williams , Marcia Gay Harden , Christop...  \n",
       "411  [Michael Jordan , Charles Barkley , Patrick Ew...  "
      ]
     },
     "execution_count": 144,
     "metadata": {},
     "output_type": "execute_result"
    }
   ],
   "source": [
    "merged_df.tail()"
   ]
  },
  {
   "cell_type": "code",
   "execution_count": 71,
   "metadata": {},
   "outputs": [
    {
     "name": "stderr",
     "output_type": "stream",
     "text": [
      "/Users/Michael/anaconda3/lib/python3.7/site-packages/ipykernel_launcher.py:1: SettingWithCopyWarning: \n",
      "A value is trying to be set on a copy of a slice from a DataFrame\n",
      "\n",
      "See the caveats in the documentation: https://pandas.pydata.org/pandas-docs/stable/user_guide/indexing.html#returning-a-view-versus-a-copy\n",
      "  \"\"\"Entry point for launching an IPython kernel.\n"
     ]
    }
   ],
   "source": [
    "merged_df.drop_duplicates(subset=\"title\", inplace=True)"
   ]
  },
  {
   "cell_type": "code",
   "execution_count": 162,
   "metadata": {},
   "outputs": [
    {
     "name": "stdout",
     "output_type": "stream",
     "text": [
      "<class 'pandas.core.frame.DataFrame'>\n",
      "Int64Index: 1248 entries, 0 to 1247\n",
      "Data columns (total 10 columns):\n",
      " #   Column                Non-Null Count  Dtype \n",
      "---  ------                --------------  ----- \n",
      " 0   title                 1248 non-null   object\n",
      " 1   date                  1248 non-null   object\n",
      " 2   rotten_tomato_rating  1248 non-null   object\n",
      " 3   audience_rating       1248 non-null   object\n",
      " 4   budget                1248 non-null   object\n",
      " 5   domestic_gross        1248 non-null   object\n",
      " 6   worldwide_gross       1248 non-null   object\n",
      " 7   director              1248 non-null   object\n",
      " 8   writers               1248 non-null   object\n",
      " 9   top_5_billed          1248 non-null   object\n",
      "dtypes: object(10)\n",
      "memory usage: 107.2+ KB\n"
     ]
    }
   ],
   "source": [
    "merged_df.info()"
   ]
  },
  {
   "cell_type": "code",
   "execution_count": 54,
   "metadata": {},
   "outputs": [],
   "source": [
    "convert_dict = {'rotten_tomato_rating':int, 'audience_rating':int, 'budget':int, 'domestic_gross':int, 'worldwide_gross':int}"
   ]
  },
  {
   "cell_type": "code",
   "execution_count": 163,
   "metadata": {},
   "outputs": [],
   "source": [
    "budgets = budgets_pd.budget.str.replace('$','')\n",
    "domestic = budgets_pd.domestic_gross.str.replace('$','')\n",
    "worldwide = budgets_pd.worldwide_gross.str.replace('$','')\n",
    "rt_rating = merged_df.rotten_tomato_rating.str.replace('%','')\n",
    "aud_rating = merged_df.audience_rating.str.replace('%','')"
   ]
  },
  {
   "cell_type": "code",
   "execution_count": 164,
   "metadata": {},
   "outputs": [],
   "source": [
    "rt = rt_rating[::-1]"
   ]
  },
  {
   "cell_type": "code",
   "execution_count": 75,
   "metadata": {},
   "outputs": [
    {
     "data": {
      "text/plain": [
       "0        400,000,000\n",
       "1        379,000,000\n",
       "2        365,000,000\n",
       "3        306,000,000\n",
       "4        300,000,000\n",
       "            ...     \n",
       "6038           7,000\n",
       "6039           6,000\n",
       "6040           5,000\n",
       "6041           1,400\n",
       "6042           1,100\n",
       "Name: budget, Length: 6043, dtype: object"
      ]
     },
     "execution_count": 75,
     "metadata": {},
     "output_type": "execute_result"
    }
   ],
   "source": [
    "budgets"
   ]
  },
  {
   "cell_type": "code",
   "execution_count": 174,
   "metadata": {},
   "outputs": [],
   "source": [
    "b = budgets[:1248]\n",
    "b = b[::-1]"
   ]
  },
  {
   "cell_type": "code",
   "execution_count": 91,
   "metadata": {},
   "outputs": [
    {
     "data": {
      "text/plain": [
       "'\\xa0400,000,000'"
      ]
     },
     "execution_count": 91,
     "metadata": {},
     "output_type": "execute_result"
    }
   ],
   "source": [
    "b.max()"
   ]
  },
  {
   "cell_type": "code",
   "execution_count": 176,
   "metadata": {},
   "outputs": [
    {
     "data": {
      "text/plain": [
       "(array([236., 154., 136.,  76.,  95.,  91.,  28.,  67.,  35.,  11.,  43.,\n",
       "         26.,  31.,   9.,  46.,  19.,   8.,  32.,  15.,  10.,   9.,  28.,\n",
       "          6.,   3.,   3.,   8.,   2.,   0.,   6.,   1.,   4.,   0.,   2.,\n",
       "          0.,   0.,   4.,   1.,   0.,   0.,   0.,   0.,   0.,   0.,   0.,\n",
       "          0.,   1.,   0.,   1.,   0.,   1.]),\n",
       " array([5.00e+07, 5.70e+07, 6.40e+07, 7.10e+07, 7.80e+07, 8.50e+07,\n",
       "        9.20e+07, 9.90e+07, 1.06e+08, 1.13e+08, 1.20e+08, 1.27e+08,\n",
       "        1.34e+08, 1.41e+08, 1.48e+08, 1.55e+08, 1.62e+08, 1.69e+08,\n",
       "        1.76e+08, 1.83e+08, 1.90e+08, 1.97e+08, 2.04e+08, 2.11e+08,\n",
       "        2.18e+08, 2.25e+08, 2.32e+08, 2.39e+08, 2.46e+08, 2.53e+08,\n",
       "        2.60e+08, 2.67e+08, 2.74e+08, 2.81e+08, 2.88e+08, 2.95e+08,\n",
       "        3.02e+08, 3.09e+08, 3.16e+08, 3.23e+08, 3.30e+08, 3.37e+08,\n",
       "        3.44e+08, 3.51e+08, 3.58e+08, 3.65e+08, 3.72e+08, 3.79e+08,\n",
       "        3.86e+08, 3.93e+08, 4.00e+08]),\n",
       " <a list of 50 Patch objects>)"
      ]
     },
     "execution_count": 176,
     "metadata": {},
     "output_type": "execute_result"
    },
    {
     "data": {
      "image/png": "[encoded data removed]",
      "text/plain": [
       "<Figure size 1080x864 with 1 Axes>"
      ]
     },
     "metadata": {
      "needs_background": "light"
     },
     "output_type": "display_data"
    }
   ],
   "source": [
    "#budgets distribution\n",
    "x_tix = range(200000,400000,50000)\n",
    "# print(x_tix)\n",
    "fig, ax = plt.subplots(figsize =(15,12))\n",
    "ax.hist(blist, 50)\n",
    "# ax.set_xticks(x_tix)"
   ]
  },
  {
   "cell_type": "code",
   "execution_count": 175,
   "metadata": {},
   "outputs": [
    {
     "name": "stdout",
     "output_type": "stream",
     "text": [
      "[50000000, 50000000, 50000000, 50000000, 50000000, 50000000, 50000000, 50000000, 50000000, 50000000, 50000000, 50000000, 50000000, 50000000, 50000000, 50000000, 50000000, 50000000, 50000000, 50000000, 50000000, 50000000, 50000000, 50000000, 50000000, 50000000, 50000000, 50000000, 50000000, 50000000, 50000000, 50000000, 50000000, 50000000, 50000000, 50000000, 50000000, 50000000, 50000000, 50000000, 50000000, 50000000, 50000000, 50000000, 50000000, 50000000, 50000000, 50000000, 50000000, 50000000, 50000000, 50000000, 50000000, 50000000, 50000000, 50000000, 50000000, 50000000, 50000000, 50000000, 50000000, 50000000, 50000000, 50000000, 50000000, 50000000, 50000000, 50000000, 50000000, 50000000, 50000000, 50000000, 50000000, 50000000, 50000000, 50000000, 50000000, 50000000, 50000000, 50000000, 50000000, 50000000, 50000000, 50000000, 50000000, 50000000, 50000000, 50000000, 50000000, 50000000, 50000000, 50000000, 50000000, 50000000, 50000000, 50000000, 50000000, 50000000, 50000000, 50000000, 50000000, 50000000, 50000000, 50000000, 50000000, 50000000, 50000000, 50000000, 50000000, 50000000, 50000000, 50000000, 50000000, 50000000, 50000000, 50000000, 50000000, 50000000, 50000000, 50000000, 50000000, 50000000, 50000000, 50000000, 50000000, 50000000, 50000000, 50000000, 50000000, 50200000, 50300000, 51000000, 51000000, 51000000, 51000000, 52000000, 52000000, 52000000, 52000000, 52000000, 52000000, 52000000, 52000000, 52000000, 52000000, 52500000, 53000000, 53000000, 53000000, 53000000, 53000000, 53000000, 53000000, 53000000, 53000000, 53012938, 54000000, 54000000, 54000000, 54000000, 54000000, 54000000, 54000000, 55000000, 55000000, 55000000, 55000000, 55000000, 55000000, 55000000, 55000000, 55000000, 55000000, 55000000, 55000000, 55000000, 55000000, 55000000, 55000000, 55000000, 55000000, 55000000, 55000000, 55000000, 55000000, 55000000, 55000000, 55000000, 55000000, 55000000, 55000000, 55000000, 55000000, 55000000, 55000000, 55000000, 55000000, 55000000, 55000000, 55000000, 55000000, 55000000, 55000000, 55000000, 55000000, 55000000, 55000000, 55000000, 55000000, 55000000, 55000000, 55000000, 55000000, 55000000, 55000000, 55000000, 55000000, 55000000, 55000000, 55000000, 55000000, 55000000, 55000000, 55000000, 55000000, 55000000, 55000000, 55000000, 55000000, 55000000, 55000000, 56000000, 56000000, 56000000, 56000000, 56200000, 57000000, 57000000, 57000000, 57000000, 57000000, 57500000, 57500000, 57500000, 58000000, 58000000, 58000000, 58000000, 58000000, 58000000, 58000000, 58000000, 58000000, 58000000, 58000000, 58000000, 58000000, 59000000, 59000000, 60000000, 60000000, 60000000, 60000000, 60000000, 60000000, 60000000, 60000000, 60000000, 60000000, 60000000, 60000000, 60000000, 60000000, 60000000, 60000000, 60000000, 60000000, 60000000, 60000000, 60000000, 60000000, 60000000, 60000000, 60000000, 60000000, 60000000, 60000000, 60000000, 60000000, 60000000, 60000000, 60000000, 60000000, 60000000, 60000000, 60000000, 60000000, 60000000, 60000000, 60000000, 60000000, 60000000, 60000000, 60000000, 60000000, 60000000, 60000000, 60000000, 60000000, 60000000, 60000000, 60000000, 60000000, 60000000, 60000000, 60000000, 60000000, 60000000, 60000000, 60000000, 60000000, 60000000, 60000000, 60000000, 60000000, 60000000, 60000000, 60000000, 60000000, 60000000, 60000000, 60000000, 60000000, 60000000, 60000000, 60000000, 60000000, 60000000, 60000000, 60000000, 60000000, 60000000, 60000000, 60000000, 60000000, 60000000, 60000000, 60000000, 60000000, 60000000, 60000000, 60000000, 60000000, 60000000, 60000000, 60000000, 60000000, 60000000, 60000000, 60000000, 60000000, 60000000, 60000000, 60000000, 60000000, 60000000, 60000000, 60000000, 60000000, 60000000, 60000000, 60720000, 61000000, 61000000, 61000000, 61000000, 61000000, 61000000, 62000000, 62000000, 62000000, 62000000, 62000000, 62000000, 63000000, 63000000, 63000000, 63000000, 63000000, 63700000, 64000000, 64000000, 65000000, 65000000, 65000000, 65000000, 65000000, 65000000, 65000000, 65000000, 65000000, 65000000, 65000000, 65000000, 65000000, 65000000, 65000000, 65000000, 65000000, 65000000, 65000000, 65000000, 65000000, 65000000, 65000000, 65000000, 65000000, 65000000, 65000000, 65000000, 65000000, 65000000, 65000000, 65000000, 65000000, 65000000, 65000000, 65000000, 65000000, 65000000, 65000000, 65000000, 65000000, 65000000, 65000000, 65000000, 65000000, 65000000, 65000000, 65000000, 65000000, 65000000, 65000000, 65000000, 65000000, 66000000, 66000000, 66000000, 67000000, 67000000, 67500000, 67500000, 67500000, 68000000, 68000000, 68000000, 68000000, 68000000, 68000000, 68000000, 68000000, 68000000, 68000000, 69000000, 69000000, 69000000, 70000000, 70000000, 70000000, 70000000, 70000000, 70000000, 70000000, 70000000, 70000000, 70000000, 70000000, 70000000, 70000000, 70000000, 70000000, 70000000, 70000000, 70000000, 70000000, 70000000, 70000000, 70000000, 70000000, 70000000, 70000000, 70000000, 70000000, 70000000, 70000000, 70000000, 70000000, 70000000, 70000000, 70000000, 70000000, 70000000, 70000000, 70000000, 70000000, 70000000, 70000000, 70000000, 70000000, 70000000, 70000000, 70000000, 70000000, 70000000, 70000000, 70000000, 70000000, 70000000, 70000000, 70000000, 70000000, 70000000, 70000000, 70000000, 70000000, 70702619, 71500000, 71682975, 72000000, 72000000, 72000000, 72000000, 72000000, 72000000, 72500000, 72500000, 72500000, 72500000, 73000000, 73000000, 73000000, 73000000, 73243106, 74000000, 74000000, 75000000, 75000000, 75000000, 75000000, 75000000, 75000000, 75000000, 75000000, 75000000, 75000000, 75000000, 75000000, 75000000, 75000000, 75000000, 75000000, 75000000, 75000000, 75000000, 75000000, 75000000, 75000000, 75000000, 75000000, 75000000, 75000000, 75000000, 75000000, 75000000, 75000000, 75000000, 75000000, 75000000, 75000000, 75000000, 75000000, 75000000, 75000000, 75000000, 75000000, 75000000, 75000000, 75000000, 75000000, 75000000, 75000000, 75000000, 75000000, 75000000, 76000000, 76000000, 76000000, 76000000, 77000000, 77500000, 77500000, 77600000, 78000000, 78000000, 78000000, 78000000, 78000000, 78000000, 79000000, 79000000, 79300000, 80000000, 80000000, 80000000, 80000000, 80000000, 80000000, 80000000, 80000000, 80000000, 80000000, 80000000, 80000000, 80000000, 80000000, 80000000, 80000000, 80000000, 80000000, 80000000, 80000000, 80000000, 80000000, 80000000, 80000000, 80000000, 80000000, 80000000, 80000000, 80000000, 80000000, 80000000, 80000000, 80000000, 80000000, 80000000, 80000000, 80000000, 80000000, 80000000, 80000000, 80000000, 80000000, 80000000, 80000000, 80000000, 80000000, 80000000, 80000000, 80000000, 80000000, 80000000, 80000000, 80000000, 80000000, 80000000, 80000000, 80000000, 80000000, 80000000, 80000000, 80000000, 80000000, 80000000, 80000000, 80000000, 80000000, 80000000, 80000000, 80000000, 80000000, 80000000, 80000000, 80000000, 81000000, 82000000, 82000000, 82000000, 82000000, 82500000, 82500000, 82500000, 82500000, 84000000, 84000000, 84000000, 84000000, 85000000, 85000000, 85000000, 85000000, 85000000, 85000000, 85000000, 85000000, 85000000, 85000000, 85000000, 85000000, 85000000, 85000000, 85000000, 85000000, 85000000, 85000000, 85000000, 85000000, 85000000, 85000000, 85000000, 85000000, 85000000, 85000000, 85000000, 85000000, 85000000, 85000000, 85000000, 85000000, 85000000, 85000000, 85000000, 85000000, 85000000, 86000000, 87000000, 87500000, 88000000, 88000000, 88000000, 90000000, 90000000, 90000000, 90000000, 90000000, 90000000, 90000000, 90000000, 90000000, 90000000, 90000000, 90000000, 90000000, 90000000, 90000000, 90000000, 90000000, 90000000, 90000000, 90000000, 90000000, 90000000, 90000000, 90000000, 90000000, 90000000, 90000000, 90000000, 90000000, 90000000, 90000000, 90000000, 90000000, 90000000, 90000000, 90000000, 90000000, 90000000, 90000000, 90000000, 90000000, 90000000, 90000000, 90000000, 90000000, 90000000, 90000000, 91000000, 92000000, 92000000, 92000000, 92000000, 92500000, 93000000, 93000000, 94000000, 94000000, 94000000, 94000000, 94000000, 95000000, 95000000, 95000000, 95000000, 95000000, 95000000, 95000000, 95000000, 95000000, 95000000, 95000000, 95000000, 97000000, 97000000, 97600000, 98000000, 99000000, 99000000, 99000000, 100000000, 100000000, 100000000, 100000000, 100000000, 100000000, 100000000, 100000000, 100000000, 100000000, 100000000, 100000000, 100000000, 100000000, 100000000, 100000000, 100000000, 100000000, 100000000, 100000000, 100000000, 100000000, 100000000, 100000000, 100000000, 100000000, 100000000, 100000000, 100000000, 100000000, 100000000, 100000000, 100000000, 100000000, 100000000, 100000000, 100000000, 100000000, 100000000, 100000000, 100000000, 100000000, 100000000, 100000000, 100000000, 100000000, 100000000, 100000000, 102000000, 102000000, 102000000, 102000000, 102500000, 103000000, 103000000, 103000000, 103300000, 104000000, 105000000, 105000000, 105000000, 105000000, 105000000, 105000000, 106000000, 108000000, 109000000, 109000000, 109000000, 110000000, 110000000, 110000000, 110000000, 110000000, 110000000, 110000000, 110000000, 110000000, 110000000, 110000000, 110000000, 110000000, 110000000, 110000000, 110000000, 110000000, 110000000, 110000000, 110000000, 110000000, 110000000, 110000000, 110000000, 110000000, 110000000, 110000000, 110000000, 111000000, 112000000, 113500000, 115000000, 115000000, 115000000, 115000000, 115000000, 115000000, 115000000, 115000000, 116000000, 117000000, 120000000, 120000000, 120000000, 120000000, 120000000, 120000000, 120000000, 120000000, 120000000, 120000000, 120000000, 120000000, 120000000, 120000000, 120000000, 120000000, 120000000, 120000000, 123000000, 125000000, 125000000, 125000000, 125000000, 125000000, 125000000, 125000000, 125000000, 125000000, 125000000, 125000000, 125000000, 125000000, 125000000, 125000000, 125000000, 125000000, 125000000, 125000000, 125000000, 125000000, 125000000, 125000000, 125000000, 127000000, 127000000, 127500000, 127500000, 129000000, 130000000, 130000000, 130000000, 130000000, 130000000, 130000000, 130000000, 130000000, 130000000, 130000000, 130000000, 130000000, 130000000, 130000000, 130000000, 130000000, 130000000, 130000000, 132000000, 132000000, 132900000, 135000000, 135000000, 135000000, 135000000, 135000000, 135000000, 135000000, 135000000, 135000000, 136200000, 137000000, 137000000, 137500000, 138000000, 138000000, 139000000, 140000000, 140000000, 140000000, 140000000, 140000000, 140000000, 140000000, 140000000, 140000000, 140000000, 140000000, 140000000, 140000000, 140000000, 140000000, 142000000, 144000000, 145000000, 145000000, 145000000, 145000000, 145000000, 145000000, 145000000, 149000000, 150000000, 150000000, 150000000, 150000000, 150000000, 150000000, 150000000, 150000000, 150000000, 150000000, 150000000, 150000000, 150000000, 150000000, 150000000, 150000000, 150000000, 150000000, 150000000, 150000000, 150000000, 150000000, 150000000, 150000000, 150000000, 150000000, 150000000, 150000000, 150000000, 150000000, 150000000, 150000000, 150000000, 150000000, 150000000, 150000000, 150000000, 150000000, 150000000, 150000000, 150000000, 150000000, 151000000, 151500000, 152000000, 155000000, 155000000, 155000000, 155000000, 156000000, 159000000, 160000000, 160000000, 160000000, 160000000, 160000000, 160000000, 160000000, 160000000, 160000000, 160000000, 160000000, 160000000, 160000000, 163000000, 165000000, 165000000, 165000000, 165000000, 165000000, 165000000, 165000000, 170000000, 170000000, 170000000, 170000000, 170000000, 170000000, 170000000, 170000000, 170000000, 170000000, 170000000, 170000000, 170000000, 170000000, 175000000, 175000000, 175000000, 175000000, 175000000, 175000000, 175000000, 175000000, 175000000, 175000000, 175000000, 175000000, 175000000, 175000000, 175000000, 175000000, 175000000, 175000000, 178000000, 178000000, 178000000, 178000000, 179000000, 180000000, 180000000, 180000000, 180000000, 180000000, 180000000, 180000000, 180000000, 180000000, 182000000, 185000000, 185000000, 185000000, 185000000, 185000000, 185000000, 185000000, 185000000, 186000000, 187500000, 190000000, 190000000, 190000000, 190000000, 190000000, 190000000, 195000000, 195000000, 195000000, 200000000, 200000000, 200000000, 200000000, 200000000, 200000000, 200000000, 200000000, 200000000, 200000000, 200000000, 200000000, 200000000, 200000000, 200000000, 200000000, 200000000, 200000000, 200000000, 200000000, 200000000, 200000000, 200000000, 200000000, 200000000, 200000000, 200000000, 200000000, 205000000, 207000000, 210000000, 210000000, 210000000, 210000000, 215000000, 215000000, 217000000, 220000000, 220000000, 224000000, 225000000, 225000000, 225000000, 225000000, 225000000, 230000000, 230000000, 230000000, 232000000, 237000000, 250000000, 250000000, 250000000, 250000000, 250000000, 250000000, 258000000, 260000000, 260000000, 263000000, 263700000, 275000000, 275000000, 300000000, 300000000, 300000000, 300000000, 306000000, 365000000, 379000000, 400000000]\n"
     ]
    }
   ],
   "source": [
    "_ = b.tolist()\n",
    "blist = []\n",
    "for num in _:\n",
    "    num = num.replace('\\xa0','')\n",
    "    num = num.replace(',', '')\n",
    "    blist.append(int(num))\n",
    "print(blist)"
   ]
  },
  {
   "cell_type": "code",
   "execution_count": 172,
   "metadata": {},
   "outputs": [
    {
     "name": "stdout",
     "output_type": "stream",
     "text": [
      "['94', '33', '76', '85', '51', '70', '52', '28', '93', '93', '93', '93', '89', '91', '83', '74', '59', '67', '82', '75', '87', '30', '65', '31', '73', '34', '15', '70', '20', '18', '57', '84', '84', '84', '42', '89', '94', '84', '94', '97', '98', '79', '85', '92', '64', '80', '57', '90', '51', '39', '40', '36', '33', '26', '37', '23', '86', '86', '86', '86', '35', '52', '82', '84', '66', '76', '94', '94', '78', '75', '86', '40', '88', '70', '57', '57', '93', '53', '74', '95', '18', '36', '93', '48', '27', '47', '46', '91', '78', '92', '98', '88', '73', '70', '34', '17', '23', '46', '14', '31', '47', '91', '73', '90', '90', '49', '69', '24', '98', '83', '61', '58', '89', '99', '87', '72', '30', '44', '91', '66', '41', '87', '70', '16', '16', '16', '16', '86', '33', '28', '96', '83', '27', '43', '16', '94', '77', '82', '56', '98', '78', '88', '73', '68', '41', '83', '96', '66', '84', '77', '64', '97', '35', '72', '37', '54', '50', '89', '71', '36', '52', '37', '73', '91', '89', '74', '97', '97', '57', '94', '38', '80', '87', '53', '28', '28', '16', '90', '65', '67', '62', '45', '49', '71', '88', '85', '37', '45', '47', '32', '75', '73', '90', '90', '87', '87', '83', '79', '72', '23', '48', '76', '74', '11', '13', '91', '25', '47', '96', '72', '77', '77', '35', '35', '60', '53', '68', '68', '76', '55', '81', '81', '81', '81', '50', '57', '47', '54', '87', '26', '81', '48', '48', '9', '40', '31', '52', '96', '33', '71', '84', '43', '60', '50', '21', '82', '28', '57', '100', '44', '60', '23', '14', '11', '53', '4', '39', '96', '32', '32', '91', '68', '91', '60', '56', '67', '8', '18', '51', '77', '95', '95', '90', '90', '67', '83', '93', '39', '46', '87', '9', '71', '80', '37', '68', '73', '16', '84', '84', '84', '84', '11', '75', '63', '47', '64', '34', '9', '32', '69', '16', '69', '69', '43', '6', '26', '4', '9', '87', '85', '92', '73', '65', '97', '97', '37', '76', '16', '66', '70', '12', '99', '93', '95', '20', '75', '49', '82', '15', '38', '51', '76', '92', '100', '52', '77', '46', '72', '91', '82', '86', '57', '64', '15', '49', '62', '17', '27', '42', '24', '33', '66', '24', '36', '80', '66', '66', '0', '28', '80', '27', '78', '88', '76', '76', '41', '44', '93', '15', '72', '48', '67', '31', '49', '35', '54', '36', '69', '92', '45', '53', '19', '89', '82', '56', '26', '44', '34', '15', '31', '42', '41', '48', '84', '33', '64', '90', '56', '80', '60', '75', '45', '7', '12', '50', '64', '24', '26', '81', '19', '44', '26', '55', '13', '70', '47', '24', '43', '76', '88', '14', '56', '36', '70', '25', '28', '25', '54', '84', '22', '19', '83', '25', '18', '56', '11', '81', '65', '8', '14', '19', '6', '72', '45', '74', '71', '68', '46', '10', '52', '75', '36', '92', '73', '43', '43', '58', '54', '10', '36', '45', '91', '50', '78', '73', '21', '46', '75', '48', '50', '50', '50', '50', '81', '30', '78', '67', '33', '25', '53', '64', '44', '30', '51', '30', '19', '17', '55', '81', '70', '71', '43', '41', '12', '69', '51', '42', '62', '42', '78', '29', '74', '89', '75', '63', '97', '46', '48', '89', '28', '68', '48', '68', '42', '49', '36', '75', '63', '30', '66', '54', '27', '56', '24', '55', '24', '19', '76', '43', '16', '19', '63', '50', '28', '66', '4', '28', '0', '55', '32', '6', '53', '41', '45', '48', '45', '33', '22', '28', '61', '47', '55', '34', '37', '38', '22', '93', '54', '77', '96', '88', '62', '56', '50', '40', '76', '78', '57', '67', '49', '34', '75', '26', '56', '26', '46', '49', '29', '73', '81', '79', '42', '39', '76', '11', '50', '5', '31', '43', '35', '22', '37', '12', '15', '59', '91', '54', '79', '91', '75', '14', '87', '70', '47', '65', '43', '95', '39', '96', '60', '14', '78', '85', '10', '78', '27', '86', '42', '92', '72', '38', '6', '36', '63', '39', '52', '90', '41', '8', '28', '36', '15', '81', '81', '81', '81', '37', '26', '88', '27', '77', '54', '35', '15', '55', '47', '22', '40', '87', '14', '56', '38', '42', '22', '18', '77', '12', '51', '75', '21', '89', '69', '27', '14', '7', '15', '17', '27', '45', '47', '64', '14', '38', '33', '12', '20', '47', '12', '4', '14', '0', '27', '89', '85', '72', '37', '40', '55', '34', '25', '51', '49', '22', '18', '50', '18', '26', '71', '61', '68', '84', '85', '11', '93', '54', '89', '60', '12', '47', '66', '39', '88', '37', '59', '58', '23', '81', '84', '52', '79', '64', '44', '80', '63', '97', '67', '36', '83', '27', '61', '22', '88', '73', '9', '8', '46', '19', '29', '19', '87', '20', '26', '29', '6', '33', '33', '26', '24', '73', '84', '91', '96', '25', '38', '23', '22', '6', '79', '28', '88', '85', '52', '83', '85', '22', '71', '74', '81', '22', '84', '84', '42', '46', '57', '45', '24', '86', '7', '88', '22', '33', '65', '94', '15', '5', '73', '60', '42', '41', '66', '44', '33', '51', '50', '73', '20', '82', '57', '18', '73', '53', '31', '27', '75', '71', '64', '27', '10', '26', '25', '92', '46', '9', '12', '47', '14', '71', '22', '16', '9', '21', '59', '53', '54', '1', '80', '96', '27', '61', '47', '30', '9', '19', '37', '21', '89', '47', '36', '18', '14', '5', '42', '81', '13', '29', '27', '37', '4', '84', '14', '32', '87', '71', '75', '13', '68', '82', '94', '25', '44', '50', '72', '77', '49', '66', '12', '26', '68', '93', '85', '0', '20', '81', '22', '22', '35', '42', '29', '86', '53', '26', '41', '78', '95', '73', '18', '72', '76', '89', '15', '64', '77', '39', '17', '96', '23', '64', '41', '71', '6', '41', '24', '23', '89', '56', '14', '100', '56', '55', '77', '62', '33', '32', '53', '67', '6', '76', '27', '43', '78', '14', '32', '8', '74', '79', '29', '35', '38', '33', '17', '25', '0', '36', '27', '65', '74', '33', '66', '86', '53', '83', '97', '26', '40', '31', '77', '2', '32', '61', '23', '95', '32', '72', '75', '41', '75', '25', '97', '92', '24', '75', '80', '96', '89', '13', '35', '28', '39', '30', '72', '60', '80', '77', '90', '34', '83', '50', '39', '66', '85', '29', '56', '38', '38', '72', '15', '84', '46', '72', '48', '18', '34', '35', '35', '66', '63', '44', '46', '51', '15', '77', '33', '63', '65', '16', '60', '19', '70', '37', '28', '22', '56', '12', '45', '49', '39', '26', '46', '71', '39', '70', '31', '3', '27', '14', '37', '8', '12', '35', '48', '31', '24', '22', '56', '75', '81', '0', '36', '84', '20', '28', '37', '25', '11', '48', '30', '35', '38', '88', '48', '23', '24', '7', '33', '94', '76', '58', '12', '11', '35', '91', '62', '6', '67', '69', '17', '85', '26', '4', '31', '82', '82', '12', '53', '38', '49', '87', '5', '42', '39', '60', '57', '100', '21', '89', '56', '53', '23', '60', '53', '32', '87', '2', '42', '49', '49', '95', '93', '81', '85', '77', '65', '47', '18', '21', '83', '90', '56', '23', '36', '69', '63', '65', '14', '25', '39', '43', '82', '12', '18', '30', '78', '66', '52', '88', '60', '60', '19', '75', '69', '93', '84', '79', '43', '46', '42', '52', '99', '94', '94', '43', '63', '68', '64', '35', '35', '62', '85', '85', '47', '51', '36', '7', '88', '16', '36', '37', '43', '52', '23', '75', '68', '80', '14', '26', '26', '57', '70', '17', '76', '29', '58', '11', '42', '50', '52', '68', '50', '9', '91', '74', '28', '32', '82', '61', '10', '27', '25', '14', '3', '8', '52', '61', '29', '0', '38', '18', '66', '33', '55', '71', '71', '67', '69', '57', '90', '12', '92', '65', '31', '16', '10', '10', '73', '89', '33', '38', '42', '69', '53', '86', '51', '48', '76', '7', '84', '50', '83', '25', '40', '71', '28', '92', '22', '42', '35', '5', '42', '87', '37', '18', '74', '72', '44', '64', '34', '98', '58']\n",
      "[94, 33, 76, 85, 51, 70, 52, 28, 93, 93, 93, 93, 89, 91, 83, 74, 59, 67, 82, 75, 87, 30, 65, 31, 73, 34, 15, 70, 20, 18, 57, 84, 84, 84, 42, 89, 94, 84, 94, 97, 98, 79, 85, 92, 64, 80, 57, 90, 51, 39, 40, 36, 33, 26, 37, 23, 86, 86, 86, 86, 35, 52, 82, 84, 66, 76, 94, 94, 78, 75, 86, 40, 88, 70, 57, 57, 93, 53, 74, 95, 18, 36, 93, 48, 27, 47, 46, 91, 78, 92, 98, 88, 73, 70, 34, 17, 23, 46, 14, 31, 47, 91, 73, 90, 90, 49, 69, 24, 98, 83, 61, 58, 89, 99, 87, 72, 30, 44, 91, 66, 41, 87, 70, 16, 16, 16, 16, 86, 33, 28, 96, 83, 27, 43, 16, 94, 77, 82, 56, 98, 78, 88, 73, 68, 41, 83, 96, 66, 84, 77, 64, 97, 35, 72, 37, 54, 50, 89, 71, 36, 52, 37, 73, 91, 89, 74, 97, 97, 57, 94, 38, 80, 87, 53, 28, 28, 16, 90, 65, 67, 62, 45, 49, 71, 88, 85, 37, 45, 47, 32, 75, 73, 90, 90, 87, 87, 83, 79, 72, 23, 48, 76, 74, 11, 13, 91, 25, 47, 96, 72, 77, 77, 35, 35, 60, 53, 68, 68, 76, 55, 81, 81, 81, 81, 50, 57, 47, 54, 87, 26, 81, 48, 48, 9, 40, 31, 52, 96, 33, 71, 84, 43, 60, 50, 21, 82, 28, 57, 100, 44, 60, 23, 14, 11, 53, 4, 39, 96, 32, 32, 91, 68, 91, 60, 56, 67, 8, 18, 51, 77, 95, 95, 90, 90, 67, 83, 93, 39, 46, 87, 9, 71, 80, 37, 68, 73, 16, 84, 84, 84, 84, 11, 75, 63, 47, 64, 34, 9, 32, 69, 16, 69, 69, 43, 6, 26, 4, 9, 87, 85, 92, 73, 65, 97, 97, 37, 76, 16, 66, 70, 12, 99, 93, 95, 20, 75, 49, 82, 15, 38, 51, 76, 92, 100, 52, 77, 46, 72, 91, 82, 86, 57, 64, 15, 49, 62, 17, 27, 42, 24, 33, 66, 24, 36, 80, 66, 66, 0, 28, 80, 27, 78, 88, 76, 76, 41, 44, 93, 15, 72, 48, 67, 31, 49, 35, 54, 36, 69, 92, 45, 53, 19, 89, 82, 56, 26, 44, 34, 15, 31, 42, 41, 48, 84, 33, 64, 90, 56, 80, 60, 75, 45, 7, 12, 50, 64, 24, 26, 81, 19, 44, 26, 55, 13, 70, 47, 24, 43, 76, 88, 14, 56, 36, 70, 25, 28, 25, 54, 84, 22, 19, 83, 25, 18, 56, 11, 81, 65, 8, 14, 19, 6, 72, 45, 74, 71, 68, 46, 10, 52, 75, 36, 92, 73, 43, 43, 58, 54, 10, 36, 45, 91, 50, 78, 73, 21, 46, 75, 48, 50, 50, 50, 50, 81, 30, 78, 67, 33, 25, 53, 64, 44, 30, 51, 30, 19, 17, 55, 81, 70, 71, 43, 41, 12, 69, 51, 42, 62, 42, 78, 29, 74, 89, 75, 63, 97, 46, 48, 89, 28, 68, 48, 68, 42, 49, 36, 75, 63, 30, 66, 54, 27, 56, 24, 55, 24, 19, 76, 43, 16, 19, 63, 50, 28, 66, 4, 28, 0, 55, 32, 6, 53, 41, 45, 48, 45, 33, 22, 28, 61, 47, 55, 34, 37, 38, 22, 93, 54, 77, 96, 88, 62, 56, 50, 40, 76, 78, 57, 67, 49, 34, 75, 26, 56, 26, 46, 49, 29, 73, 81, 79, 42, 39, 76, 11, 50, 5, 31, 43, 35, 22, 37, 12, 15, 59, 91, 54, 79, 91, 75, 14, 87, 70, 47, 65, 43, 95, 39, 96, 60, 14, 78, 85, 10, 78, 27, 86, 42, 92, 72, 38, 6, 36, 63, 39, 52, 90, 41, 8, 28, 36, 15, 81, 81, 81, 81, 37, 26, 88, 27, 77, 54, 35, 15, 55, 47, 22, 40, 87, 14, 56, 38, 42, 22, 18, 77, 12, 51, 75, 21, 89, 69, 27, 14, 7, 15, 17, 27, 45, 47, 64, 14, 38, 33, 12, 20, 47, 12, 4, 14, 0, 27, 89, 85, 72, 37, 40, 55, 34, 25, 51, 49, 22, 18, 50, 18, 26, 71, 61, 68, 84, 85, 11, 93, 54, 89, 60, 12, 47, 66, 39, 88, 37, 59, 58, 23, 81, 84, 52, 79, 64, 44, 80, 63, 97, 67, 36, 83, 27, 61, 22, 88, 73, 9, 8, 46, 19, 29, 19, 87, 20, 26, 29, 6, 33, 33, 26, 24, 73, 84, 91, 96, 25, 38, 23, 22, 6, 79, 28, 88, 85, 52, 83, 85, 22, 71, 74, 81, 22, 84, 84, 42, 46, 57, 45, 24, 86, 7, 88, 22, 33, 65, 94, 15, 5, 73, 60, 42, 41, 66, 44, 33, 51, 50, 73, 20, 82, 57, 18, 73, 53, 31, 27, 75, 71, 64, 27, 10, 26, 25, 92, 46, 9, 12, 47, 14, 71, 22, 16, 9, 21, 59, 53, 54, 1, 80, 96, 27, 61, 47, 30, 9, 19, 37, 21, 89, 47, 36, 18, 14, 5, 42, 81, 13, 29, 27, 37, 4, 84, 14, 32, 87, 71, 75, 13, 68, 82, 94, 25, 44, 50, 72, 77, 49, 66, 12, 26, 68, 93, 85, 0, 20, 81, 22, 22, 35, 42, 29, 86, 53, 26, 41, 78, 95, 73, 18, 72, 76, 89, 15, 64, 77, 39, 17, 96, 23, 64, 41, 71, 6, 41, 24, 23, 89, 56, 14, 100, 56, 55, 77, 62, 33, 32, 53, 67, 6, 76, 27, 43, 78, 14, 32, 8, 74, 79, 29, 35, 38, 33, 17, 25, 0, 36, 27, 65, 74, 33, 66, 86, 53, 83, 97, 26, 40, 31, 77, 2, 32, 61, 23, 95, 32, 72, 75, 41, 75, 25, 97, 92, 24, 75, 80, 96, 89, 13, 35, 28, 39, 30, 72, 60, 80, 77, 90, 34, 83, 50, 39, 66, 85, 29, 56, 38, 38, 72, 15, 84, 46, 72, 48, 18, 34, 35, 35, 66, 63, 44, 46, 51, 15, 77, 33, 63, 65, 16, 60, 19, 70, 37, 28, 22, 56, 12, 45, 49, 39, 26, 46, 71, 39, 70, 31, 3, 27, 14, 37, 8, 12, 35, 48, 31, 24, 22, 56, 75, 81, 0, 36, 84, 20, 28, 37, 25, 11, 48, 30, 35, 38, 88, 48, 23, 24, 7, 33, 94, 76, 58, 12, 11, 35, 91, 62, 6, 67, 69, 17, 85, 26, 4, 31, 82, 82, 12, 53, 38, 49, 87, 5, 42, 39, 60, 57, 100, 21, 89, 56, 53, 23, 60, 53, 32, 87, 2, 42, 49, 49, 95, 93, 81, 85, 77, 65, 47, 18, 21, 83, 90, 56, 23, 36, 69, 63, 65, 14, 25, 39, 43, 82, 12, 18, 30, 78, 66, 52, 88, 60, 60, 19, 75, 69, 93, 84, 79, 43, 46, 42, 52, 99, 94, 94, 43, 63, 68, 64, 35, 35, 62, 85, 85, 47, 51, 36, 7, 88, 16, 36, 37, 43, 52, 23, 75, 68, 80, 14, 26, 26, 57, 70, 17, 76, 29, 58, 11, 42, 50, 52, 68, 50, 9, 91, 74, 28, 32, 82, 61, 10, 27, 25, 14, 3, 8, 52, 61, 29, 0, 38, 18, 66, 33, 55, 71, 71, 67, 69, 57, 90, 12, 92, 65, 31, 16, 10, 10, 73, 89, 33, 38, 42, 69, 53, 86, 51, 48, 76, 7, 84, 50, 83, 25, 40, 71, 28, 92, 22, 42, 35, 5, 42, 87, 37, 18, 74, 72, 44, 64, 34, 98, 58]\n"
     ]
    }
   ],
   "source": [
    "_ = rt_rating.tolist()\n",
    "print(_)\n",
    "rtlist = []\n",
    "for num in _:\n",
    "#     num = num.replace('\\xa0','')\n",
    "#     num = num.replace(',', '')\n",
    "     rtlist.append(int(num))\n",
    "print(rtlist)"
   ]
  },
  {
   "cell_type": "code",
   "execution_count": 177,
   "metadata": {},
   "outputs": [
    {
     "name": "stdout",
     "output_type": "stream",
     "text": [
      "1248\n",
      "1248\n"
     ]
    }
   ],
   "source": [
    "print(len(blist))\n",
    "print(len(rtlist))"
   ]
  },
  {
   "cell_type": "code",
   "execution_count": 178,
   "metadata": {},
   "outputs": [
    {
     "data": {
      "text/plain": [
       "<matplotlib.collections.PathCollection at 0x7fc14437dd10>"
      ]
     },
     "execution_count": 178,
     "metadata": {},
     "output_type": "execute_result"
    },
    {
     "data": {
      "image/png": "[encoded data removed]",
      "text/plain": [
       "<Figure size 1080x864 with 1 Axes>"
      ]
     },
     "metadata": {
      "needs_background": "light"
     },
     "output_type": "display_data"
    }
   ],
   "source": [
    "\n",
    "fig1, ax1 = plt.subplots(figsize=(15,12))\n",
    "y =  range(0,100,5)\n",
    "ax1.scatter(blist, rtlist)\n",
    "# ax1.set_ylim([0,100])\n",
    "# ax1.set_xlim([0, 100])"
   ]
  },
  {
   "cell_type": "code",
   "execution_count": null,
   "metadata": {},
   "outputs": [],
   "source": []
  }
 ],
 "metadata": {
  "kernelspec": {
   "display_name": "Python 3",
   "language": "python",
   "name": "python3"
  },
  "language_info": {
   "codemirror_mode": {
    "name": "ipython",
    "version": 3
   },
   "file_extension": ".py",
   "mimetype": "text/x-python",
   "name": "python",
   "nbconvert_exporter": "python",
   "pygments_lexer": "ipython3",
   "version": "3.7.7"
  }
 },
 "nbformat": 4,
 "nbformat_minor": 4
}
