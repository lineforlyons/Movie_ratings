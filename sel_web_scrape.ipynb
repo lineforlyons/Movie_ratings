{
 "cells": [
  {
   "cell_type": "code",
   "execution_count": 1,
   "metadata": {},
   "outputs": [],
   "source": [
    "from time import sleep\n",
    "from selenium import webdriver\n",
    "import pandas as pd"
   ]
  },
  {
   "cell_type": "code",
   "execution_count": 10,
   "metadata": {},
   "outputs": [],
   "source": [
    "# driver = webdriver.Safari()\n",
    "\n",
    "driver = webdriver.Chrome(executable_path='/Users/Michael/DSI/.bin/chromedriver')"
   ]
  },
  {
   "cell_type": "code",
   "execution_count": 5,
   "metadata": {},
   "outputs": [
    {
     "ename": "NameError",
     "evalue": "name 'self' is not defined",
     "output_type": "error",
     "traceback": [
      "\u001b[0;31m---------------------------------------------------------------------------\u001b[0m",
      "\u001b[0;31mNameError\u001b[0m                                 Traceback (most recent call last)",
      "\u001b[0;32m<ipython-input-5-51214d3db27d>\u001b[0m in \u001b[0;36m<module>\u001b[0;34m\u001b[0m\n\u001b[1;32m      2\u001b[0m \u001b[0;34m\u001b[0m\u001b[0m\n\u001b[1;32m      3\u001b[0m \u001b[0;31m# warnFromSafari.Accept()\u001b[0m\u001b[0;34m\u001b[0m\u001b[0;34m\u001b[0m\u001b[0;34m\u001b[0m\u001b[0m\n\u001b[0;32m----> 4\u001b[0;31m \u001b[0mwarnFromSafari\u001b[0m \u001b[0;34m=\u001b[0m \u001b[0mself\u001b[0m\u001b[0;34m.\u001b[0m\u001b[0mdriver\u001b[0m\u001b[0;34m.\u001b[0m\u001b[0mSwitchTo\u001b[0m\u001b[0;34m(\u001b[0m\u001b[0;34m)\u001b[0m\u001b[0;34m.\u001b[0m\u001b[0mAlert\u001b[0m\u001b[0;34m(\u001b[0m\u001b[0;34m)\u001b[0m\u001b[0;34m\u001b[0m\u001b[0;34m\u001b[0m\u001b[0m\n\u001b[0m\u001b[1;32m      5\u001b[0m \u001b[0;34m\u001b[0m\u001b[0m\n\u001b[1;32m      6\u001b[0m \u001b[0mwarnFromSafari\u001b[0m\u001b[0;34m.\u001b[0m\u001b[0mAccept\u001b[0m\u001b[0;34m(\u001b[0m\u001b[0;34m)\u001b[0m\u001b[0;34m\u001b[0m\u001b[0;34m\u001b[0m\u001b[0m\n",
      "\u001b[0;31mNameError\u001b[0m: name 'self' is not defined"
     ]
    }
   ],
   "source": [
    "# warnFromSafari = driver.SwitchTo().Alert()\n",
    "\n",
    "# warnFromSafari.Accept()\n",
    "# warnFromSafari = self.driver.SwitchTo().Alert()\n",
    "\n",
    "# warnFromSafari.Accept()"
   ]
  },
  {
   "cell_type": "code",
   "execution_count": 16,
   "metadata": {},
   "outputs": [],
   "source": [
    "driver.get('http://www.google.com')\n",
    "sleep(2)"
   ]
  },
  {
   "cell_type": "code",
   "execution_count": 17,
   "metadata": {},
   "outputs": [],
   "source": [
    "search = driver.find_element_by_name('q')\n",
    "search.click()\n",
    "sleep(1)"
   ]
  },
  {
   "cell_type": "code",
   "execution_count": 13,
   "metadata": {},
   "outputs": [],
   "source": [
    "movies = ['jaws', 'batman']"
   ]
  },
  {
   "cell_type": "code",
   "execution_count": 14,
   "metadata": {},
   "outputs": [],
   "source": [
    "search.send_keys(f'{movies[0]} budget\\n')"
   ]
  },
  {
   "cell_type": "code",
   "execution_count": null,
   "metadata": {},
   "outputs": [],
   "source": [
    "#JAWS example\n",
    "#class=\"kp-header\" for search results of budget\n",
    "#class=\"mod NFQxe\" for area with ratings\n",
    "# example imdb area class=\"NY3LVe\" and specifically in there class=\"wDgjf\" title=\"IMDb\"\n",
    "#with class=\"gsrt IZACzd\" for the rating. same classes for Rotten Tomatoes\n",
    "# but with title=\"Rotten Tomatoes\" and title=\"Metacritic\"\n",
    "\n",
    "#Director found at <a class=\"fl\" href=\"...\"> div class above class=\"Z1h0Ce\"\n",
    "#span class=\"Lrzxr kno-fv\" all under div class=\"mod\" data-attrid=\"kc:/film/film:director\"\n",
    "\n",
    "# Writers under div class=\"mod\" data-attrid=\"kc:/film/film:screenplay\" span class and \n",
    "# 'a class' listed as same as director above\n",
    "\n",
    "#Top Billed Cast under div class=\"zVvuGd MRfBrb\" -> div class=\"PZPZlf MRfBrb kno-vrt-t\"\n",
    "#has a href=\"...\" title=\"(Actor name (character played))\"\n",
    "#Names found under div class=\"fl ellip oBrLN S1gFKb l6aqpd\" data-original-name=\"(Actors name)\""
   ]
  },
  {
   "cell_type": "code",
   "execution_count": 18,
   "metadata": {},
   "outputs": [],
   "source": [
    "search.send_keys(f'{movies[1]} budget\\n')"
   ]
  },
  {
   "cell_type": "code",
   "execution_count": null,
   "metadata": {},
   "outputs": [],
   "source": []
  }
 ],
 "metadata": {
  "kernelspec": {
   "display_name": "Python 3",
   "language": "python",
   "name": "python3"
  },
  "language_info": {
   "codemirror_mode": {
    "name": "ipython",
    "version": 3
   },
   "file_extension": ".py",
   "mimetype": "text/x-python",
   "name": "python",
   "nbconvert_exporter": "python",
   "pygments_lexer": "ipython3",
   "version": "3.7.7"
  }
 },
 "nbformat": 4,
 "nbformat_minor": 4
}
