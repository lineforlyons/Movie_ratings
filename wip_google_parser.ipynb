{
 "cells": [
  {
   "cell_type": "code",
   "execution_count": 4,
   "metadata": {},
   "outputs": [
    {
     "name": "stdout",
     "output_type": "stream",
     "text": [
      "[{'title': 'Avengers: Endgame - Wikipedia', 'link': 'https://en.wikipedia.org/wiki/Avengers:_Endgame'}, {'title': 'Avengers: Endgame - Wikipedia', 'link': 'https://en.wikipedia.org/wiki/Avengers:_Endgame'}, {'title': 'Production of Avengers: Infinity War and Avengers: Endgame ...', 'link': 'https://en.wikipedia.org/wiki/Production_of_Avengers:_Infinity_War_and_Avengers:_Endgame'}, {'title': \"'Avengers: Endgame' Budget, Box Office: Most Expensive Film ...\", 'link': 'https://observer.com/2019/04/avengers-endgame-budget-box-office-robert-downey-jr-salary-marvel-disney/'}, {'title': 'Marvel Money: How Six Avengers Made $340 Million Last Year', 'link': 'https://www.forbes.com/sites/maddieberg/2019/07/10/marvel-money-how-six-avengers-made-340-million-last-year/'}, {'title': 'Avengers: Endgame (2019) - Financial Information', 'link': 'https://www.the-numbers.com/movie/Avengers-Endgame-(2019)'}, {'title': 'Interactive Breakdown of the Avengers: Endgame Budget ...', 'link': 'https://www.xpathmedia.com/avengers-endgame-costs-breakdown/'}, {'title': 'Avengers: Endgame (2019) - IMDb', 'link': 'https://www.imdb.com/title/tt4154796/'}, {'title': 'How Much Did Avengers: Endgame REALLY Cost To Make ...', 'link': 'https://screenrant.com/avengers-endgame-movie-budget-cost/'}]\n"
     ]
    }
   ],
   "source": [
    "import urllib\n",
    "import requests\n",
    "from bs4 import BeautifulSoup\n",
    "\n",
    "# desktop user-agent\n",
    "USER_AGENT = \"Mozilla/5.0 (Macintosh; Intel Mac OS X 10.14; rv:65.0) Gecko/20100101 Firefox/65.0\"\n",
    "# mobile user-agent\n",
    "MOBILE_USER_AGENT = \"Mozilla/5.0 (Linux; Android 7.0; SM-G930V Build/NRD90M) AppleWebKit/537.36 (KHTML, like Gecko) Chrome/59.0.3071.125 Mobile Safari/537.36\"\n",
    "\n",
    "query = \"Avengers: Endgame budget\"\n",
    "query = query.replace(' ', '+')\n",
    "URL = f\"https://google.com/search?q={query}\"\n",
    "\n",
    "headers = {\"user-agent\": USER_AGENT}\n",
    "resp = requests.get(URL, headers=headers)\n",
    "\n",
    "if resp.status_code == 200:\n",
    "    soup = BeautifulSoup(resp.content, \"html.parser\")\n",
    "    results = []\n",
    "    for g in soup.find_all('div', class_='r'):\n",
    "        anchors = g.find_all('a')\n",
    "        if anchors:\n",
    "            link = anchors[0]['href']\n",
    "            title = g.find('h3').text\n",
    "            item = {\n",
    "                \"title\": title,\n",
    "                \"link\": link\n",
    "            }\n",
    "            results.append(item)\n",
    "    print(results)"
   ]
  },
  {
   "cell_type": "code",
   "execution_count": 5,
   "metadata": {},
   "outputs": [
    {
     "name": "stdout",
     "output_type": "stream",
     "text": [
      "<Response [200]>\n"
     ]
    }
   ],
   "source": [
    "print(resp)"
   ]
  },
  {
   "cell_type": "code",
   "execution_count": 11,
   "metadata": {},
   "outputs": [],
   "source": [
    "results = []\n",
    "for g in soup.find_all('div', class_='NY3LVe'):\n",
    "    anchors = g.find_all('w')\n",
    "    if anchors:\n",
    "#             link = anchors[0]['href']\n",
    "            title = g.find('w').text\n",
    "            item = {\n",
    "                \"title\": title,\n",
    "                \"link\": link\n",
    "            }\n",
    "            results.append(item)\n",
    "    print(results)\n",
    "# print(anchors)"
   ]
  },
  {
   "cell_type": "code",
   "execution_count": 21,
   "metadata": {},
   "outputs": [
    {
     "name": "stdout",
     "output_type": "stream",
     "text": [
      "<a class=\"NY3LVe\" data-ved=\"2ahUKEwjGpvzVst3qAhUC16wKHYqOCzoQoiQwIHoECCAQCw\" href=\"https://www.imdb.com/title/tt4154796/\" onmousedown=\"return rwt(this,'','','','','AOvVaw3J8yZAQ-doAAl-PzMCKfRE','','2ahUKEwjGpvzVst3qAhUC16wKHYqOCzoQoiQwIHoECCAQCw','','',event)\" role=\"link\"><span class=\"gsrt IZACzd\">8.4/10</span><span class=\"wDgjf\" title=\"IMDb\">IMDb</span></a>\n",
      "<a class=\"NY3LVe\" data-ved=\"2ahUKEwjGpvzVst3qAhUC16wKHYqOCzoQoiQwIHoECCAQDQ\" href=\"https://www.rottentomatoes.com/m/avengers_endgame\" onmousedown=\"return rwt(this,'','','','','AOvVaw3TkrzoI1iAksQiH7O68ZKg','','2ahUKEwjGpvzVst3qAhUC16wKHYqOCzoQoiQwIHoECCAQDQ','','',event)\" role=\"link\"><span class=\"gsrt IZACzd\">94%</span><span class=\"wDgjf\" title=\"Rotten Tomatoes\">Rotten Tomatoes</span></a>\n",
      "<a class=\"NY3LVe\" data-ved=\"2ahUKEwjGpvzVst3qAhUC16wKHYqOCzoQoiQwIHoECCAQDw\" href=\"https://www.metacritic.com/movie/avengers-endgame\" onmousedown=\"return rwt(this,'','','','','AOvVaw1q7OhOLqieQLdNvX8VRhNn','','2ahUKEwjGpvzVst3qAhUC16wKHYqOCzoQoiQwIHoECCAQDw','','',event)\" role=\"link\"><span class=\"gsrt IZACzd\">78%</span><span class=\"wDgjf\" title=\"Metacritic\">Metacritic</span></a>\n"
     ]
    }
   ],
   "source": [
    "# Reviews\n",
    "\n",
    "for g in soup.find_all('a', class_='NY3LVe'):\n",
    "    print(g)\n",
    "#     anchors = g.find_all('a')\n",
    "#     print(anchors)"
   ]
  },
  {
   "cell_type": "code",
   "execution_count": 22,
   "metadata": {},
   "outputs": [
    {
     "name": "stdout",
     "output_type": "stream",
     "text": [
      "<div class=\"Z1hOCe\"><div class=\"zloOqf PZPZlf\" data-ved=\"2ahUKEwjGpvzVst3qAhUC16wKHYqOCzoQyxMoADAkegQIEhAB\"><span class=\"w8qArf\"><a class=\"fl\" data-ved=\"2ahUKEwjGpvzVst3qAhUC16wKHYqOCzoQ6BMoADAkegQIEhAC\" href=\"/search?q=avengers:+endgame+release+date&amp;stick=H4sIAAAAAAAAAOPgE-LWz9U3MDQyS7LILtMyyk620k_LzMkFE1YlGamJJUWZyYk5CkWp6Zn5eQqJ5YlFqUBOTmpicapCSmJJ6iJWucSy1Lz01KJiK4XUvJT0xFxUBQDNkVlNZAAAAA&amp;sa=X&amp;ved=2ahUKEwjGpvzVst3qAhUC16wKHYqOCzoQ6BMoADAkegQIEhAC\">Release date</a>: </span><span class=\"LrzXr kno-fv\">April 26, 2019 (<a class=\"fl\" data-ved=\"2ahUKEwjGpvzVst3qAhUC16wKHYqOCzoQmxMoATAkegQIEhAD\" href=\"/search?q=USA&amp;stick=H4sIAAAAAAAAAOPgE-LWz9U3MDQyS7LILlPiBHEsk83LDbSMspOt9NMyc3LBhFVJRmpiSVFmcmKOQlFqemZ-nkJieWJRKpCTk5pYnKqQkliSuoiVOTTYcQcrIwBjCsXIVwAAAA&amp;sa=X&amp;ved=2ahUKEwjGpvzVst3qAhUC16wKHYqOCzoQmxMoATAkegQIEhAD\">USA</a>)</span></div></div>\n",
      "<div class=\"Z1hOCe\"><div class=\"zloOqf PZPZlf\" data-ved=\"2ahUKEwjGpvzVst3qAhUC16wKHYqOCzoQyxMoADAlegQIExAB\"><span class=\"w8qArf\"><a class=\"fl\" data-ved=\"2ahUKEwjGpvzVst3qAhUC16wKHYqOCzoQ6BMoADAlegQIExAC\" href=\"/search?q=avengers:+endgame+directors&amp;stick=H4sIAAAAAAAAAOPgE-LWz9U3MDQyS7LILtMSy0620k_LzMkFE1YpmUWpySX5RYtYpRPLUvPSU4uKrRRS81LSE3NTFWCSxQBZwXStRQAAAA&amp;sa=X&amp;ved=2ahUKEwjGpvzVst3qAhUC16wKHYqOCzoQ6BMoADAlegQIExAC\">Directors</a>: </span><span class=\"LrzXr kno-fv\"><a class=\"fl\" data-ved=\"2ahUKEwjGpvzVst3qAhUC16wKHYqOCzoQmxMoATAlegQIExAD\" href=\"/search?q=Joe+Russo&amp;stick=H4sIAAAAAAAAAOPgE-LWz9U3MDQyS7LILlPiBHFSsivNTLXEspOt9NMyc3LBhFVKZlFqckl-0SJWTq_8VIWg0uLi_B2sjACkHyyEQQAAAA&amp;sa=X&amp;ved=2ahUKEwjGpvzVst3qAhUC16wKHYqOCzoQmxMoATAlegQIExAD\">Joe Russo</a>, <a class=\"fl\" data-ved=\"2ahUKEwjGpvzVst3qAhUC16wKHYqOCzoQmxMoAjAlegQIExAE\" href=\"/search?q=Anthony+Russo&amp;stick=H4sIAAAAAAAAAOPgE-LWz9U3MDQyS7LILlPiBHFSskuMDbTEspOt9NMyc3LBhFVKZlFqckl-0SJWXse8koz8vEqFoNLi4vwdrIwApliSbkUAAAA&amp;sa=X&amp;ved=2ahUKEwjGpvzVst3qAhUC16wKHYqOCzoQmxMoAjAlegQIExAE\">Anthony Russo</a></span></div></div>\n",
      "<div class=\"Z1hOCe\"><div class=\"zloOqf PZPZlf\" data-ved=\"2ahUKEwjGpvzVst3qAhUC16wKHYqOCzoQyxMoADAnegQIFRAB\"><span class=\"w8qArf\"><a class=\"fl\" data-ved=\"2ahUKEwjGpvzVst3qAhUC16wKHYqOCzoQ6BMoADAnegQIFRAC\" href=\"/search?q=avengers:+endgame+box+office&amp;stick=H4sIAAAAAAAAAOPgE-LWz9U3MDQyS7LILtOSzyi30k_Oz8lJTS7JzM_TT8vMyS22SsqvUMhPS8tMTl3EKpNYlpqXnlpUbKWQmpeSnpibqoCQBgDFsQeFTwAAAA&amp;sa=X&amp;ved=2ahUKEwjGpvzVst3qAhUC16wKHYqOCzoQ6BMoADAnegQIFRAC\">Box office</a>: </span><span class=\"LrzXr kno-fv\">2.798 billion USD</span></div></div>\n",
      "<div class=\"Z1hOCe\"><div class=\"zloOqf PZPZlf\" data-ved=\"2ahUKEwjGpvzVst3qAhUC16wKHYqOCzoQyxMoADAoegQIFhAB\"><span class=\"w8qArf\"><a class=\"fl\" data-ved=\"2ahUKEwjGpvzVst3qAhUC16wKHYqOCzoQ6BMoADAoegQIFhAC\" href=\"/search?q=avengers:+endgame+budget&amp;stick=H4sIAAAAAAAAAOPgE-LWz9U3MDQyS7LILtMSyU620k_LzMkFE1ZJpSnpqSWLWCUSy1Lz0lOLiq0UUvNS0hNzUxUgUgA25N9jQAAAAA&amp;sa=X&amp;ved=2ahUKEwjGpvzVst3qAhUC16wKHYqOCzoQ6BMoADAoegQIFhAC\">Budget</a>: </span><span class=\"LrzXr kno-fv\">356 million USD (2019)</span></div></div>\n",
      "<div class=\"Z1hOCe\"><div class=\"zloOqf PZPZlf\" data-ved=\"2ahUKEwjGpvzVst3qAhUC16wKHYqOCzoQyxMoADApegQIFxAB\"><span class=\"w8qArf\"><a class=\"fl\" data-ved=\"2ahUKEwjGpvzVst3qAhUC16wKHYqOCzoQ6BMoADApegQIFxAC\" href=\"/search?q=avengers:+endgame+awards&amp;stick=H4sIAAAAAAAAAOPgE-LWz9U3MDQyS7LILtOSzU620k8sTyxKgZDx5Zl5ealFVmBO8SJWicSy1Lz01KJiK4XUvJT0xNxUBYgUADFJmohJAAAA&amp;sa=X&amp;ved=2ahUKEwjGpvzVst3qAhUC16wKHYqOCzoQ6BMoADApegQIFxAC\">Awards</a>: </span><span class=\"LrzXr kno-fv\"><a class=\"fl\" data-ved=\"2ahUKEwjGpvzVst3qAhUC16wKHYqOCzoQmxMoATApegQIFxAD\" href=\"/search?q=MTV+Movie+Award+for+Best+Villain&amp;stick=H4sIAAAAAAAAAOPgE-LWz9U3MDQyS7LILlPiAnFMzSuKLSy1ZLOTrfQTyxOLUiBkfHlmXl5qkRWYU7yIVcE3JEzBN78sM1XBESSkkJZfpOCUWlyiEJaZk5OYmbeDlREATlP4VGAAAAA&amp;sa=X&amp;ved=2ahUKEwjGpvzVst3qAhUC16wKHYqOCzoQmxMoATApegQIFxAD\">MTV Movie Award for Best Villain</a><span>,</span><span> </span><a class=\"fl\" href=\"/search?q=avengers:+endgame+awards&amp;stick=H4sIAAAAAAAAAOPgE-LWz9U3MDQyS7LILtOSzU620k8sTyxKgZDx5Zl5ealFVmBO8SJWicSy1Lz01KJiK4XUvJT0xNxUBYgUADFJmohJAAAA&amp;sa=X&amp;ved=2ahUKEwjGpvzVst3qAhUC16wKHYqOCzoQ44YBKAIwKXoECBcQBA\"><span class=\"SW5pqf\">MORE</span></a></span></div></div>\n",
      "<div class=\"Z1hOCe\"><div class=\"zloOqf PZPZlf\" data-ved=\"2ahUKEwjGpvzVst3qAhUC16wKHYqOCzoQyxMoADAqegQIGBAB\"><span class=\"w8qArf\"><a class=\"fl\" data-ved=\"2ahUKEwjGpvzVst3qAhUC16wKHYqOCzoQ6BMoADAqegQIGBAC\" href=\"/search?q=avengers:+endgame+bluray+release&amp;stick=H4sIAAAAAAAAAOPgE-LWz9U3MDQyS7LILtOSzc8uSrTKLogvyElMTs3Iz0lJLdJPS0wuiS9JrShZxKqQWJaal55aVGylkJqXkp6Ym6qQlFNalFipUJSak5pYnAoAFzrGIlEAAAA&amp;sa=X&amp;ved=2ahUKEwjGpvzVst3qAhUC16wKHYqOCzoQ6BMoADAqegQIGBAC\">Bluray release</a>: </span><span class=\"LrzXr kno-fv\">August 13</span> <span class=\"XJa8af\"><a data-ved=\"2ahUKEwjGpvzVst3qAhUC16wKHYqOCzoQvRkoATAqegQIGBAD\" href=\"https://www.cnet.com/news/avengers-endgame-blu-ray-coming-august-13-digital-release-available-now/\" onmousedown=\"return rwt(this,'','','','','AOvVaw34Z2H0-JiYZ6YLC6Bjt4h4','','2ahUKEwjGpvzVst3qAhUC16wKHYqOCzoQvRkoATAqegQIGBAD','','',event)\">cnet.com</a></span></div></div>\n"
     ]
    }
   ],
   "source": [
    "for g in soup.find_all('div', class_='Z1hOCe'):\n",
    "    print(g)"
   ]
  },
  {
   "cell_type": "code",
   "execution_count": 30,
   "metadata": {},
   "outputs": [
    {
     "name": "stdout",
     "output_type": "stream",
     "text": [
      "356 million USD (2019)\n"
     ]
    }
   ],
   "source": [
    "# Budget\n",
    "for g in soup.find_all('span', class_=\"LrzXr kno-fv\")[3]:\n",
    "    print(g)\n"
   ]
  },
  {
   "cell_type": "code",
   "execution_count": 59,
   "metadata": {},
   "outputs": [
    {
     "name": "stdout",
     "output_type": "stream",
     "text": [
      "<a class=\"fl\" data-ved=\"2ahUKEwjGpvzVst3qAhUC16wKHYqOCzoQmxMoATAlegQIExAD\" href=\"/search?q=Joe+Russo&amp;stick=H4sIAAAAAAAAAOPgE-LWz9U3MDQyS7LILlPiBHFSsivNTLXEspOt9NMyc3LBhFVKZlFqckl-0SJWTq_8VIWg0uLi_B2sjACkHyyEQQAAAA&amp;sa=X&amp;ved=2ahUKEwjGpvzVst3qAhUC16wKHYqOCzoQmxMoATAlegQIExAD\">Joe Russo</a>\n",
      ", \n",
      "<a class=\"fl\" data-ved=\"2ahUKEwjGpvzVst3qAhUC16wKHYqOCzoQmxMoAjAlegQIExAE\" href=\"/search?q=Anthony+Russo&amp;stick=H4sIAAAAAAAAAOPgE-LWz9U3MDQyS7LILlPiBHFSskuMDbTEspOt9NMyc3LBhFVKZlFqckl-0SJWXse8koz8vEqFoNLi4vwdrIwApliSbkUAAAA&amp;sa=X&amp;ved=2ahUKEwjGpvzVst3qAhUC16wKHYqOCzoQmxMoAjAlegQIExAE\">Anthony Russo</a>\n"
     ]
    }
   ],
   "source": [
    "# Directors\n",
    "for g in soup.find_all('span', class_=\"LrzXr kno-fv\")[1]:\n",
    "    print(g)\n",
    "# for h in soup.find_all('a', class_=\"fl\")[18]:\n",
    "#     print(h)"
   ]
  },
  {
   "cell_type": "code",
   "execution_count": 62,
   "metadata": {},
   "outputs": [
    {
     "name": "stdout",
     "output_type": "stream",
     "text": [
      "<div class=\"PZPZlf MRfBrb kno-vrt-t\" data-rentity=\"\" style=\"width:72px\"><a data-ved=\"2ahUKEwjGpvzVst3qAhUC16wKHYqOCzoQxA0wLnoECBwQBQ\" href=\"/search?q=Robert+Downey,+Jr.&amp;stick=H4sIAAAAAAAAAONgFuLWz9U3MDQyS7LILlPiBHPMqoyytHh888syU0PyHZNL8osWsQoF5SelFpUouOSX56VW6ih4FekBAK01waE9AAAA&amp;sa=X&amp;ved=2ahUKEwjGpvzVst3qAhUC16wKHYqOCzoQxA0wLnoECBwQBQ\" title=\"Robert Downey Jr. (Iron Man)\"><div class=\"XQ6p1d\"><g-img><img alt=\"Robert Downey Jr. (Iron Man)\" class=\"rISBZc M4dUYb\" data-deferred=\"1\" height=\"72\" id=\"dimg_59\" src=\"data:image/gif;base64,R0lGODlhAQABAIAAAP///////yH5BAEKAAEALAAAAAABAAEAAAICTAEAOw==\" width=\"72\"/></g-img></div><div class=\"fl ellip oBrLN S1gFKb l6aqpd\" data-original-name=\"Robert Downey Jr.\">Robert Downey Jr.</div><div class=\"xlBGCb ellip\" title=\"Robert Downey Jr. (Iron Man)\">Iron Man</div></a></div>\n",
      "<div class=\"PZPZlf MRfBrb kno-vrt-t\" data-rentity=\"\" style=\"width:72px\"><a data-ved=\"2ahUKEwjGpvzVst3qAhUC16wKHYqOCzoQxA0wLnoECBwQBw\" href=\"/search?q=Scarlett+Johansson&amp;stick=H4sIAAAAAAAAAONgFuLWz9U3MDQyS7LILlPiBHGMDA1NSrR4fPPLMlND8h2TS_KLFrEKBScnFuWklpQoeOVnJOYVF-fnAQDO0nngPQAAAA&amp;sa=X&amp;ved=2ahUKEwjGpvzVst3qAhUC16wKHYqOCzoQxA0wLnoECBwQBw\" title=\"Scarlett Johansson (Black Widow)\"><div class=\"XQ6p1d\"><g-img><img alt=\"Scarlett Johansson (Black Widow)\" class=\"rISBZc M4dUYb\" data-deferred=\"1\" height=\"72\" id=\"dimg_61\" src=\"data:image/gif;base64,R0lGODlhAQABAIAAAP///////yH5BAEKAAEALAAAAAABAAEAAAICTAEAOw==\" width=\"72\"/></g-img></div><div class=\"fl ellip oBrLN S1gFKb l6aqpd\" data-original-name=\"Scarlett Johansson\">Scarlett Johansson</div><div class=\"xlBGCb ellip\" title=\"Scarlett Johansson (Black Widow)\">Black Widow</div></a></div>\n",
      "<div class=\"PZPZlf MRfBrb kno-vrt-t\" data-rentity=\"\" style=\"width:72px\"><a data-ved=\"2ahUKEwjGpvzVst3qAhUC16wKHYqOCzoQxA0wLnoECBwQCQ\" href=\"/search?q=Chris+Hemsworth&amp;stick=H4sIAAAAAAAAAONgFuLWz9U3MDQyS7LILlPiBHFMsvIKs7R4fPPLMlND8h2TS_KLFrHyO2cUZRYreKTmFpfnF5VkAAC4PXEMOgAAAA&amp;sa=X&amp;ved=2ahUKEwjGpvzVst3qAhUC16wKHYqOCzoQxA0wLnoECBwQCQ\" title=\"Chris Hemsworth (Thor)\"><div class=\"XQ6p1d\"><g-img><img alt=\"Chris Hemsworth (Thor)\" class=\"rISBZc M4dUYb\" data-deferred=\"1\" height=\"72\" id=\"dimg_63\" src=\"data:image/gif;base64,R0lGODlhAQABAIAAAP///////yH5BAEKAAEALAAAAAABAAEAAAICTAEAOw==\" width=\"72\"/></g-img></div><div class=\"fl ellip oBrLN S1gFKb l6aqpd\" data-original-name=\"Chris Hemsworth\">Chris Hemsworth</div><div class=\"xlBGCb ellip\" title=\"Chris Hemsworth (Thor)\">Thor</div></a></div>\n"
     ]
    }
   ],
   "source": [
    "# Top Actors/Actresses\n",
    "for g in soup.find_all('div', class_=\"PZPZlf MRfBrb kno-vrt-t\"):\n",
    "    print(g)\n"
   ]
  },
  {
   "cell_type": "code",
   "execution_count": 72,
   "metadata": {},
   "outputs": [
    {
     "name": "stdout",
     "output_type": "stream",
     "text": [
      "Joe Russo, Anthony Russo\n"
     ]
    }
   ],
   "source": [
    "# Directors\n",
    "dir = soup.find_all('span', class_=\"LrzXr kno-fv\")[1]\n",
    "print(dir.text)"
   ]
  },
  {
   "cell_type": "code",
   "execution_count": 79,
   "metadata": {},
   "outputs": [
    {
     "name": "stdout",
     "output_type": "stream",
     "text": [
      "Robert Downey Jr.Iron Man\n",
      "Scarlett JohanssonBlack Widow\n",
      "Chris HemsworthThor\n",
      "Chris EvansCaptain America\n",
      "Mark RuffaloHulk\n"
     ]
    }
   ],
   "source": [
    "# Top Actors/Actresses\n",
    "for act in soup.find_all('div', class_=\"PZPZlf MRfBrb kno-vrt-t\"):\n",
    "    print(act.text)\n",
    "for act2 in soup.find_all('div', class_='PZPZlf rhsg3 MRfBrb kno-vrt-t'):\n",
    "    print(act2.text)\n",
    "for act2 in soup.find_all('div', class_='PZPZlf rhsg4 MRfBrb kno-vrt-t'):\n",
    "    print(act2.text)\n"
   ]
  },
  {
   "cell_type": "code",
   "execution_count": 80,
   "metadata": {},
   "outputs": [
    {
     "name": "stdout",
     "output_type": "stream",
     "text": [
      "356 million USD (2019)\n"
     ]
    }
   ],
   "source": [
    "# Budget\n",
    "for g in soup.find_all('span', class_=\"LrzXr kno-fv\")[3]:\n",
    "    print(g)"
   ]
  },
  {
   "cell_type": "code",
   "execution_count": 88,
   "metadata": {},
   "outputs": [
    {
     "name": "stdout",
     "output_type": "stream",
     "text": [
      "Avengers: Endgame\n"
     ]
    }
   ],
   "source": [
    "# Title\n",
    "for g in soup.find_all('h2', class_=\"qrShPb kno-ecr-pt PZPZlf gsmt mfMhoc\"):\n",
    "    print(g.text)"
   ]
  },
  {
   "cell_type": "code",
   "execution_count": 90,
   "metadata": {},
   "outputs": [
    {
     "name": "stdout",
     "output_type": "stream",
     "text": [
      "8.4/10IMDb\n",
      "94%Rotten Tomatoes\n",
      "78%Metacritic\n"
     ]
    }
   ],
   "source": [
    "# Ratings\n",
    "\n",
    "for g in soup.find_all('a', class_='NY3LVe'):\n",
    "    print(g.text)"
   ]
  },
  {
   "cell_type": "code",
   "execution_count": null,
   "metadata": {},
   "outputs": [],
   "source": []
  }
 ],
 "metadata": {
  "kernelspec": {
   "display_name": "Python 3",
   "language": "python",
   "name": "python3"
  },
  "language_info": {
   "codemirror_mode": {
    "name": "ipython",
    "version": 3
   },
   "file_extension": ".py",
   "mimetype": "text/x-python",
   "name": "python",
   "nbconvert_exporter": "python",
   "pygments_lexer": "ipython3",
   "version": "3.7.7"
  }
 },
 "nbformat": 4,
 "nbformat_minor": 4
}
